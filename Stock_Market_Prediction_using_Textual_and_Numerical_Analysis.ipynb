{
  "cells": [
    {
      "cell_type": "markdown",
      "id": "196aed3a",
      "metadata": {
        "id": "196aed3a"
      },
      "source": [
        "## Load Libraries Needed"
      ]
    },
    {
      "cell_type": "code",
      "execution_count": 102,
      "id": "7cb12ac5",
      "metadata": {
        "id": "7cb12ac5",
        "colab": {
          "base_uri": "https://localhost:8080/"
        },
        "outputId": "3b05d3c6-aa61-4c53-bcd6-b9a07147234e"
      },
      "outputs": [
        {
          "output_type": "stream",
          "name": "stderr",
          "text": [
            "[nltk_data] Downloading package vader_lexicon to /root/nltk_data...\n",
            "[nltk_data]   Package vader_lexicon is already up-to-date!\n"
          ]
        }
      ],
      "source": [
        "import numpy as np\n",
        "import pandas as pd\n",
        "import tensorflow as tf\n",
        "from datetime import datetime\n",
        "import re\n",
        "import nltk\n",
        "from sklearn.feature_extraction import text\n",
        "from textblob import TextBlob\n",
        "from nltk.sentiment.vader import SentimentIntensityAnalyzer\n",
        "nltk.download('vader_lexicon')\n",
        "import matplotlib.pyplot as plt"
      ]
    },
    {
      "cell_type": "markdown",
      "source": [
        "## Part1: Sentimental Analysis on Textual Data"
      ],
      "metadata": {
        "id": "wQPL0S-j-mRc"
      },
      "id": "wQPL0S-j-mRc"
    },
    {
      "cell_type": "markdown",
      "id": "d10db90d",
      "metadata": {
        "id": "d10db90d"
      },
      "source": [
        "## Read Textual Data"
      ]
    },
    {
      "cell_type": "code",
      "source": [
        "from google.colab import drive\n",
        "drive.mount('/content/drive')"
      ],
      "metadata": {
        "colab": {
          "base_uri": "https://localhost:8080/"
        },
        "id": "UyEbLL0P2dDM",
        "outputId": "fa9507b1-36f2-47b5-b1ea-8e172571e2f5"
      },
      "id": "UyEbLL0P2dDM",
      "execution_count": 73,
      "outputs": [
        {
          "output_type": "stream",
          "name": "stdout",
          "text": [
            "Drive already mounted at /content/drive; to attempt to forcibly remount, call drive.mount(\"/content/drive\", force_remount=True).\n"
          ]
        }
      ]
    },
    {
      "cell_type": "code",
      "execution_count": 74,
      "id": "fd8ca257",
      "metadata": {
        "id": "fd8ca257",
        "outputId": "876bb755-d127-4222-d96e-18874f33e8d5",
        "colab": {
          "base_uri": "https://localhost:8080/"
        }
      },
      "outputs": [
        {
          "output_type": "execute_result",
          "data": {
            "text/plain": [
              "(3650970, 3)"
            ]
          },
          "metadata": {},
          "execution_count": 74
        }
      ],
      "source": [
        "indian_news = pd.read_csv('drive/MyDrive/india-news-headlines.csv')\n",
        "# shape of the data\n",
        "indian_news.shape"
      ]
    },
    {
      "cell_type": "markdown",
      "source": [
        "## Explore the Textual Data"
      ],
      "metadata": {
        "id": "fvlX814ugMQK"
      },
      "id": "fvlX814ugMQK"
    },
    {
      "cell_type": "code",
      "execution_count": 75,
      "id": "697b124a",
      "metadata": {
        "id": "697b124a",
        "colab": {
          "base_uri": "https://localhost:8080/",
          "height": 520
        },
        "outputId": "2b22900a-1202-4a67-d7a8-cdecd771df6b"
      },
      "outputs": [
        {
          "output_type": "execute_result",
          "data": {
            "text/plain": [
              "    publish_date headline_category  \\\n",
              "0       20010102           unknown   \n",
              "1       20010102           unknown   \n",
              "2       20010102           unknown   \n",
              "3       20010102           unknown   \n",
              "4       20010102           unknown   \n",
              "5       20010102           unknown   \n",
              "6       20010102           unknown   \n",
              "7       20010102           unknown   \n",
              "8       20010102           unknown   \n",
              "9       20010102           unknown   \n",
              "10      20010102           unknown   \n",
              "11      20010102           unknown   \n",
              "12      20010102           unknown   \n",
              "13      20010102           unknown   \n",
              "14      20010102           unknown   \n",
              "\n",
              "                                        headline_text  \n",
              "0   Status quo will not be disturbed at Ayodhya; s...  \n",
              "1                 Fissures in Hurriyat over Pak visit  \n",
              "2               America's unwanted heading for India?  \n",
              "3                  For bigwigs; it is destination Goa  \n",
              "4                Extra buses to clear tourist traffic  \n",
              "5         Dilute the power of transfers; says Riberio  \n",
              "6                   Focus shifts to teaching of Hindi  \n",
              "7                IT will become compulsory in schools  \n",
              "8       Move to stop freedom fighters' pension flayed  \n",
              "9   Gilani claims he applied for passport 2 years ago  \n",
              "10                     Parivar dismisses PM's warning  \n",
              "11              India; Pak exchange lists of N-plants  \n",
              "12        Will Qureshi's return really help the govt?  \n",
              "13         PM's tacit message: Put Ram tample on hold  \n",
              "14               Text of the Prime Minister's article  "
            ],
            "text/html": [
              "\n",
              "  <div id=\"df-e5073fd7-22d8-4b2b-b09b-5b4e46d37fdb\">\n",
              "    <div class=\"colab-df-container\">\n",
              "      <div>\n",
              "<style scoped>\n",
              "    .dataframe tbody tr th:only-of-type {\n",
              "        vertical-align: middle;\n",
              "    }\n",
              "\n",
              "    .dataframe tbody tr th {\n",
              "        vertical-align: top;\n",
              "    }\n",
              "\n",
              "    .dataframe thead th {\n",
              "        text-align: right;\n",
              "    }\n",
              "</style>\n",
              "<table border=\"1\" class=\"dataframe\">\n",
              "  <thead>\n",
              "    <tr style=\"text-align: right;\">\n",
              "      <th></th>\n",
              "      <th>publish_date</th>\n",
              "      <th>headline_category</th>\n",
              "      <th>headline_text</th>\n",
              "    </tr>\n",
              "  </thead>\n",
              "  <tbody>\n",
              "    <tr>\n",
              "      <th>0</th>\n",
              "      <td>20010102</td>\n",
              "      <td>unknown</td>\n",
              "      <td>Status quo will not be disturbed at Ayodhya; s...</td>\n",
              "    </tr>\n",
              "    <tr>\n",
              "      <th>1</th>\n",
              "      <td>20010102</td>\n",
              "      <td>unknown</td>\n",
              "      <td>Fissures in Hurriyat over Pak visit</td>\n",
              "    </tr>\n",
              "    <tr>\n",
              "      <th>2</th>\n",
              "      <td>20010102</td>\n",
              "      <td>unknown</td>\n",
              "      <td>America's unwanted heading for India?</td>\n",
              "    </tr>\n",
              "    <tr>\n",
              "      <th>3</th>\n",
              "      <td>20010102</td>\n",
              "      <td>unknown</td>\n",
              "      <td>For bigwigs; it is destination Goa</td>\n",
              "    </tr>\n",
              "    <tr>\n",
              "      <th>4</th>\n",
              "      <td>20010102</td>\n",
              "      <td>unknown</td>\n",
              "      <td>Extra buses to clear tourist traffic</td>\n",
              "    </tr>\n",
              "    <tr>\n",
              "      <th>5</th>\n",
              "      <td>20010102</td>\n",
              "      <td>unknown</td>\n",
              "      <td>Dilute the power of transfers; says Riberio</td>\n",
              "    </tr>\n",
              "    <tr>\n",
              "      <th>6</th>\n",
              "      <td>20010102</td>\n",
              "      <td>unknown</td>\n",
              "      <td>Focus shifts to teaching of Hindi</td>\n",
              "    </tr>\n",
              "    <tr>\n",
              "      <th>7</th>\n",
              "      <td>20010102</td>\n",
              "      <td>unknown</td>\n",
              "      <td>IT will become compulsory in schools</td>\n",
              "    </tr>\n",
              "    <tr>\n",
              "      <th>8</th>\n",
              "      <td>20010102</td>\n",
              "      <td>unknown</td>\n",
              "      <td>Move to stop freedom fighters' pension flayed</td>\n",
              "    </tr>\n",
              "    <tr>\n",
              "      <th>9</th>\n",
              "      <td>20010102</td>\n",
              "      <td>unknown</td>\n",
              "      <td>Gilani claims he applied for passport 2 years ago</td>\n",
              "    </tr>\n",
              "    <tr>\n",
              "      <th>10</th>\n",
              "      <td>20010102</td>\n",
              "      <td>unknown</td>\n",
              "      <td>Parivar dismisses PM's warning</td>\n",
              "    </tr>\n",
              "    <tr>\n",
              "      <th>11</th>\n",
              "      <td>20010102</td>\n",
              "      <td>unknown</td>\n",
              "      <td>India; Pak exchange lists of N-plants</td>\n",
              "    </tr>\n",
              "    <tr>\n",
              "      <th>12</th>\n",
              "      <td>20010102</td>\n",
              "      <td>unknown</td>\n",
              "      <td>Will Qureshi's return really help the govt?</td>\n",
              "    </tr>\n",
              "    <tr>\n",
              "      <th>13</th>\n",
              "      <td>20010102</td>\n",
              "      <td>unknown</td>\n",
              "      <td>PM's tacit message: Put Ram tample on hold</td>\n",
              "    </tr>\n",
              "    <tr>\n",
              "      <th>14</th>\n",
              "      <td>20010102</td>\n",
              "      <td>unknown</td>\n",
              "      <td>Text of the Prime Minister's article</td>\n",
              "    </tr>\n",
              "  </tbody>\n",
              "</table>\n",
              "</div>\n",
              "      <button class=\"colab-df-convert\" onclick=\"convertToInteractive('df-e5073fd7-22d8-4b2b-b09b-5b4e46d37fdb')\"\n",
              "              title=\"Convert this dataframe to an interactive table.\"\n",
              "              style=\"display:none;\">\n",
              "        \n",
              "  <svg xmlns=\"http://www.w3.org/2000/svg\" height=\"24px\"viewBox=\"0 0 24 24\"\n",
              "       width=\"24px\">\n",
              "    <path d=\"M0 0h24v24H0V0z\" fill=\"none\"/>\n",
              "    <path d=\"M18.56 5.44l.94 2.06.94-2.06 2.06-.94-2.06-.94-.94-2.06-.94 2.06-2.06.94zm-11 1L8.5 8.5l.94-2.06 2.06-.94-2.06-.94L8.5 2.5l-.94 2.06-2.06.94zm10 10l.94 2.06.94-2.06 2.06-.94-2.06-.94-.94-2.06-.94 2.06-2.06.94z\"/><path d=\"M17.41 7.96l-1.37-1.37c-.4-.4-.92-.59-1.43-.59-.52 0-1.04.2-1.43.59L10.3 9.45l-7.72 7.72c-.78.78-.78 2.05 0 2.83L4 21.41c.39.39.9.59 1.41.59.51 0 1.02-.2 1.41-.59l7.78-7.78 2.81-2.81c.8-.78.8-2.07 0-2.86zM5.41 20L4 18.59l7.72-7.72 1.47 1.35L5.41 20z\"/>\n",
              "  </svg>\n",
              "      </button>\n",
              "      \n",
              "  <style>\n",
              "    .colab-df-container {\n",
              "      display:flex;\n",
              "      flex-wrap:wrap;\n",
              "      gap: 12px;\n",
              "    }\n",
              "\n",
              "    .colab-df-convert {\n",
              "      background-color: #E8F0FE;\n",
              "      border: none;\n",
              "      border-radius: 50%;\n",
              "      cursor: pointer;\n",
              "      display: none;\n",
              "      fill: #1967D2;\n",
              "      height: 32px;\n",
              "      padding: 0 0 0 0;\n",
              "      width: 32px;\n",
              "    }\n",
              "\n",
              "    .colab-df-convert:hover {\n",
              "      background-color: #E2EBFA;\n",
              "      box-shadow: 0px 1px 2px rgba(60, 64, 67, 0.3), 0px 1px 3px 1px rgba(60, 64, 67, 0.15);\n",
              "      fill: #174EA6;\n",
              "    }\n",
              "\n",
              "    [theme=dark] .colab-df-convert {\n",
              "      background-color: #3B4455;\n",
              "      fill: #D2E3FC;\n",
              "    }\n",
              "\n",
              "    [theme=dark] .colab-df-convert:hover {\n",
              "      background-color: #434B5C;\n",
              "      box-shadow: 0px 1px 3px 1px rgba(0, 0, 0, 0.15);\n",
              "      filter: drop-shadow(0px 1px 2px rgba(0, 0, 0, 0.3));\n",
              "      fill: #FFFFFF;\n",
              "    }\n",
              "  </style>\n",
              "\n",
              "      <script>\n",
              "        const buttonEl =\n",
              "          document.querySelector('#df-e5073fd7-22d8-4b2b-b09b-5b4e46d37fdb button.colab-df-convert');\n",
              "        buttonEl.style.display =\n",
              "          google.colab.kernel.accessAllowed ? 'block' : 'none';\n",
              "\n",
              "        async function convertToInteractive(key) {\n",
              "          const element = document.querySelector('#df-e5073fd7-22d8-4b2b-b09b-5b4e46d37fdb');\n",
              "          const dataTable =\n",
              "            await google.colab.kernel.invokeFunction('convertToInteractive',\n",
              "                                                     [key], {});\n",
              "          if (!dataTable) return;\n",
              "\n",
              "          const docLinkHtml = 'Like what you see? Visit the ' +\n",
              "            '<a target=\"_blank\" href=https://colab.research.google.com/notebooks/data_table.ipynb>data table notebook</a>'\n",
              "            + ' to learn more about interactive tables.';\n",
              "          element.innerHTML = '';\n",
              "          dataTable['output_type'] = 'display_data';\n",
              "          await google.colab.output.renderOutput(dataTable, element);\n",
              "          const docLink = document.createElement('div');\n",
              "          docLink.innerHTML = docLinkHtml;\n",
              "          element.appendChild(docLink);\n",
              "        }\n",
              "      </script>\n",
              "    </div>\n",
              "  </div>\n",
              "  "
            ]
          },
          "metadata": {},
          "execution_count": 75
        }
      ],
      "source": [
        "indian_news.head(15)"
      ]
    },
    {
      "cell_type": "code",
      "source": [
        "indian_news.info()"
      ],
      "metadata": {
        "id": "5uoVZwdGRyuf",
        "colab": {
          "base_uri": "https://localhost:8080/"
        },
        "outputId": "b93bd378-e02c-4b81-c65a-9ac9201f45bf"
      },
      "id": "5uoVZwdGRyuf",
      "execution_count": 76,
      "outputs": [
        {
          "output_type": "stream",
          "name": "stdout",
          "text": [
            "<class 'pandas.core.frame.DataFrame'>\n",
            "RangeIndex: 3650970 entries, 0 to 3650969\n",
            "Data columns (total 3 columns):\n",
            " #   Column             Dtype \n",
            "---  ------             ----- \n",
            " 0   publish_date       int64 \n",
            " 1   headline_category  object\n",
            " 2   headline_text      object\n",
            "dtypes: int64(1), object(2)\n",
            "memory usage: 83.6+ MB\n"
          ]
        }
      ]
    },
    {
      "cell_type": "markdown",
      "source": [
        "## Preprocessing for the Indian News Headlines Data"
      ],
      "metadata": {
        "id": "xnudo-WFAWeD"
      },
      "id": "xnudo-WFAWeD"
    },
    {
      "cell_type": "code",
      "source": [
        "# Delete unnecessary column\n",
        "indian_news.drop(columns=['headline_category'],inplace=True)"
      ],
      "metadata": {
        "id": "kCbqh6xagBW6"
      },
      "id": "kCbqh6xagBW6",
      "execution_count": 77,
      "outputs": []
    },
    {
      "cell_type": "code",
      "source": [
        "# convert the publish_data column to datetime datatype\n",
        "indian_news['publish_date'] = indian_news['publish_date'].map(lambda x : str(x))\n",
        "indian_news['publish_date'] = indian_news['publish_date'].map(lambda x : datetime.strptime(x,'%Y%m%d'))"
      ],
      "metadata": {
        "id": "H_AIczSJ-RM1"
      },
      "id": "H_AIczSJ-RM1",
      "execution_count": 78,
      "outputs": []
    },
    {
      "cell_type": "code",
      "source": [
        "# drop duplicates in each rows in publish_date column\n",
        "indian_news.drop_duplicates(subset=['publish_date'],inplace=True)\n",
        "# drop duplicates in each row in headline_text column\n",
        "indian_news.drop_duplicates(subset=['headline_text'],inplace=True)\n",
        "# reset index\n",
        "indian_news.reset_index(inplace=True,drop=True)"
      ],
      "metadata": {
        "id": "vQvB_-HrKKJC"
      },
      "id": "vQvB_-HrKKJC",
      "execution_count": 79,
      "outputs": []
    },
    {
      "cell_type": "code",
      "source": [
        "# convert headline text to lowercase\n",
        "indian_news['headline_text'] = indian_news['headline_text'].map(lambda x : x.lower())\n",
        "# remove all special characters \n",
        "indian_news['headline_text'] = indian_news['headline_text'].map(lambda x : re.sub(\"[^a-zA-Z']\",' ',x))\n",
        "# load english stopwords\n",
        "stopwords = text.ENGLISH_STOP_WORDS\n",
        "# remove english stopwords\n",
        "indian_news['headline_text'] = indian_news['headline_text'].map(lambda x : [word for word in x.split() if word not in stopwords])\n",
        "# convert the output list above into a string\n",
        "indian_news['headline_text'] = indian_news['headline_text'].map(lambda x : \" \".join(x))"
      ],
      "metadata": {
        "id": "-G-BrsTzCK1U"
      },
      "id": "-G-BrsTzCK1U",
      "execution_count": 80,
      "outputs": []
    },
    {
      "cell_type": "code",
      "source": [
        "# explore the textual data after preprocessing\n",
        "indian_news.head(15)"
      ],
      "metadata": {
        "colab": {
          "base_uri": "https://localhost:8080/",
          "height": 520
        },
        "id": "ScUZPv3k45KK",
        "outputId": "c7fb407d-ea79-482d-8576-4b0915b1af80"
      },
      "id": "ScUZPv3k45KK",
      "execution_count": 81,
      "outputs": [
        {
          "output_type": "execute_result",
          "data": {
            "text/plain": [
              "   publish_date                                      headline_text\n",
              "0    2001-01-02         status quo disturbed ayodhya says vajpayee\n",
              "1    2001-01-03                  powerless north india gropes dark\n",
              "2    2001-01-04                string pulled stephen hawking india\n",
              "3    2001-01-05          light combat craft takes india club class\n",
              "4    2001-01-07                    muslim body rules talks ayodhya\n",
              "5    2001-01-08                     sangh parivar babri panel ante\n",
              "6    2001-01-09  financier bharat shah held alleged links chott...\n",
              "7    2001-01-10                           fend pande tells doctors\n",
              "8    2001-01-23                       sonia takes hindutva brigade\n",
              "9    2001-01-24                   govt extends j k ceasefire month\n",
              "10   2001-01-25                              big bath passes hitch\n",
              "11   2001-01-26                     president pitch indirect polls\n",
              "12   2001-01-27                                monster quake kills\n",
              "13   2001-01-28                    death distress destruction it's\n",
              "14   2001-01-29                             tremors forecast hours"
            ],
            "text/html": [
              "\n",
              "  <div id=\"df-603604b6-f461-4a5a-ac66-3b8825bc7dfd\">\n",
              "    <div class=\"colab-df-container\">\n",
              "      <div>\n",
              "<style scoped>\n",
              "    .dataframe tbody tr th:only-of-type {\n",
              "        vertical-align: middle;\n",
              "    }\n",
              "\n",
              "    .dataframe tbody tr th {\n",
              "        vertical-align: top;\n",
              "    }\n",
              "\n",
              "    .dataframe thead th {\n",
              "        text-align: right;\n",
              "    }\n",
              "</style>\n",
              "<table border=\"1\" class=\"dataframe\">\n",
              "  <thead>\n",
              "    <tr style=\"text-align: right;\">\n",
              "      <th></th>\n",
              "      <th>publish_date</th>\n",
              "      <th>headline_text</th>\n",
              "    </tr>\n",
              "  </thead>\n",
              "  <tbody>\n",
              "    <tr>\n",
              "      <th>0</th>\n",
              "      <td>2001-01-02</td>\n",
              "      <td>status quo disturbed ayodhya says vajpayee</td>\n",
              "    </tr>\n",
              "    <tr>\n",
              "      <th>1</th>\n",
              "      <td>2001-01-03</td>\n",
              "      <td>powerless north india gropes dark</td>\n",
              "    </tr>\n",
              "    <tr>\n",
              "      <th>2</th>\n",
              "      <td>2001-01-04</td>\n",
              "      <td>string pulled stephen hawking india</td>\n",
              "    </tr>\n",
              "    <tr>\n",
              "      <th>3</th>\n",
              "      <td>2001-01-05</td>\n",
              "      <td>light combat craft takes india club class</td>\n",
              "    </tr>\n",
              "    <tr>\n",
              "      <th>4</th>\n",
              "      <td>2001-01-07</td>\n",
              "      <td>muslim body rules talks ayodhya</td>\n",
              "    </tr>\n",
              "    <tr>\n",
              "      <th>5</th>\n",
              "      <td>2001-01-08</td>\n",
              "      <td>sangh parivar babri panel ante</td>\n",
              "    </tr>\n",
              "    <tr>\n",
              "      <th>6</th>\n",
              "      <td>2001-01-09</td>\n",
              "      <td>financier bharat shah held alleged links chott...</td>\n",
              "    </tr>\n",
              "    <tr>\n",
              "      <th>7</th>\n",
              "      <td>2001-01-10</td>\n",
              "      <td>fend pande tells doctors</td>\n",
              "    </tr>\n",
              "    <tr>\n",
              "      <th>8</th>\n",
              "      <td>2001-01-23</td>\n",
              "      <td>sonia takes hindutva brigade</td>\n",
              "    </tr>\n",
              "    <tr>\n",
              "      <th>9</th>\n",
              "      <td>2001-01-24</td>\n",
              "      <td>govt extends j k ceasefire month</td>\n",
              "    </tr>\n",
              "    <tr>\n",
              "      <th>10</th>\n",
              "      <td>2001-01-25</td>\n",
              "      <td>big bath passes hitch</td>\n",
              "    </tr>\n",
              "    <tr>\n",
              "      <th>11</th>\n",
              "      <td>2001-01-26</td>\n",
              "      <td>president pitch indirect polls</td>\n",
              "    </tr>\n",
              "    <tr>\n",
              "      <th>12</th>\n",
              "      <td>2001-01-27</td>\n",
              "      <td>monster quake kills</td>\n",
              "    </tr>\n",
              "    <tr>\n",
              "      <th>13</th>\n",
              "      <td>2001-01-28</td>\n",
              "      <td>death distress destruction it's</td>\n",
              "    </tr>\n",
              "    <tr>\n",
              "      <th>14</th>\n",
              "      <td>2001-01-29</td>\n",
              "      <td>tremors forecast hours</td>\n",
              "    </tr>\n",
              "  </tbody>\n",
              "</table>\n",
              "</div>\n",
              "      <button class=\"colab-df-convert\" onclick=\"convertToInteractive('df-603604b6-f461-4a5a-ac66-3b8825bc7dfd')\"\n",
              "              title=\"Convert this dataframe to an interactive table.\"\n",
              "              style=\"display:none;\">\n",
              "        \n",
              "  <svg xmlns=\"http://www.w3.org/2000/svg\" height=\"24px\"viewBox=\"0 0 24 24\"\n",
              "       width=\"24px\">\n",
              "    <path d=\"M0 0h24v24H0V0z\" fill=\"none\"/>\n",
              "    <path d=\"M18.56 5.44l.94 2.06.94-2.06 2.06-.94-2.06-.94-.94-2.06-.94 2.06-2.06.94zm-11 1L8.5 8.5l.94-2.06 2.06-.94-2.06-.94L8.5 2.5l-.94 2.06-2.06.94zm10 10l.94 2.06.94-2.06 2.06-.94-2.06-.94-.94-2.06-.94 2.06-2.06.94z\"/><path d=\"M17.41 7.96l-1.37-1.37c-.4-.4-.92-.59-1.43-.59-.52 0-1.04.2-1.43.59L10.3 9.45l-7.72 7.72c-.78.78-.78 2.05 0 2.83L4 21.41c.39.39.9.59 1.41.59.51 0 1.02-.2 1.41-.59l7.78-7.78 2.81-2.81c.8-.78.8-2.07 0-2.86zM5.41 20L4 18.59l7.72-7.72 1.47 1.35L5.41 20z\"/>\n",
              "  </svg>\n",
              "      </button>\n",
              "      \n",
              "  <style>\n",
              "    .colab-df-container {\n",
              "      display:flex;\n",
              "      flex-wrap:wrap;\n",
              "      gap: 12px;\n",
              "    }\n",
              "\n",
              "    .colab-df-convert {\n",
              "      background-color: #E8F0FE;\n",
              "      border: none;\n",
              "      border-radius: 50%;\n",
              "      cursor: pointer;\n",
              "      display: none;\n",
              "      fill: #1967D2;\n",
              "      height: 32px;\n",
              "      padding: 0 0 0 0;\n",
              "      width: 32px;\n",
              "    }\n",
              "\n",
              "    .colab-df-convert:hover {\n",
              "      background-color: #E2EBFA;\n",
              "      box-shadow: 0px 1px 2px rgba(60, 64, 67, 0.3), 0px 1px 3px 1px rgba(60, 64, 67, 0.15);\n",
              "      fill: #174EA6;\n",
              "    }\n",
              "\n",
              "    [theme=dark] .colab-df-convert {\n",
              "      background-color: #3B4455;\n",
              "      fill: #D2E3FC;\n",
              "    }\n",
              "\n",
              "    [theme=dark] .colab-df-convert:hover {\n",
              "      background-color: #434B5C;\n",
              "      box-shadow: 0px 1px 3px 1px rgba(0, 0, 0, 0.15);\n",
              "      filter: drop-shadow(0px 1px 2px rgba(0, 0, 0, 0.3));\n",
              "      fill: #FFFFFF;\n",
              "    }\n",
              "  </style>\n",
              "\n",
              "      <script>\n",
              "        const buttonEl =\n",
              "          document.querySelector('#df-603604b6-f461-4a5a-ac66-3b8825bc7dfd button.colab-df-convert');\n",
              "        buttonEl.style.display =\n",
              "          google.colab.kernel.accessAllowed ? 'block' : 'none';\n",
              "\n",
              "        async function convertToInteractive(key) {\n",
              "          const element = document.querySelector('#df-603604b6-f461-4a5a-ac66-3b8825bc7dfd');\n",
              "          const dataTable =\n",
              "            await google.colab.kernel.invokeFunction('convertToInteractive',\n",
              "                                                     [key], {});\n",
              "          if (!dataTable) return;\n",
              "\n",
              "          const docLinkHtml = 'Like what you see? Visit the ' +\n",
              "            '<a target=\"_blank\" href=https://colab.research.google.com/notebooks/data_table.ipynb>data table notebook</a>'\n",
              "            + ' to learn more about interactive tables.';\n",
              "          element.innerHTML = '';\n",
              "          dataTable['output_type'] = 'display_data';\n",
              "          await google.colab.output.renderOutput(dataTable, element);\n",
              "          const docLink = document.createElement('div');\n",
              "          docLink.innerHTML = docLinkHtml;\n",
              "          element.appendChild(docLink);\n",
              "        }\n",
              "      </script>\n",
              "    </div>\n",
              "  </div>\n",
              "  "
            ]
          },
          "metadata": {},
          "execution_count": 81
        }
      ]
    },
    {
      "cell_type": "code",
      "source": [
        "print('Shape of Data after Preprocessing is:',indian_news.shape)"
      ],
      "metadata": {
        "colab": {
          "base_uri": "https://localhost:8080/"
        },
        "id": "7cu9LYkVL1p6",
        "outputId": "54cf3173-402e-4a7c-f3cb-da21904f07aa"
      },
      "id": "7cu9LYkVL1p6",
      "execution_count": 82,
      "outputs": [
        {
          "output_type": "stream",
          "name": "stdout",
          "text": [
            "Shape of Data after Preprocessing is: (7676, 2)\n"
          ]
        }
      ]
    },
    {
      "cell_type": "markdown",
      "source": [
        "## Determine Headline Text's Polarirty and Subjectivity"
      ],
      "metadata": {
        "id": "ge2Pnrh4PKLY"
      },
      "id": "ge2Pnrh4PKLY"
    },
    {
      "cell_type": "code",
      "source": [
        "# polarity\n",
        "indian_news['polarity'] = indian_news['headline_text'].map(lambda x : TextBlob(x).sentiment.polarity)\n",
        "# subjectivity\n",
        "indian_news['subjectivity'] = indian_news['headline_text'].map(lambda x : TextBlob(x).sentiment.subjectivity)"
      ],
      "metadata": {
        "id": "uTfGiWVgL5Bt"
      },
      "id": "uTfGiWVgL5Bt",
      "execution_count": 83,
      "outputs": []
    },
    {
      "cell_type": "markdown",
      "source": [
        "## Apply Sentiment Analysis on Headlines Text"
      ],
      "metadata": {
        "id": "-Odb1mbwSXAv"
      },
      "id": "-Odb1mbwSXAv"
    },
    {
      "cell_type": "code",
      "source": [
        "sentiment_analyzer = SentimentIntensityAnalyzer()\n",
        "# compound sentiment\n",
        "indian_news['compound'] = indian_news['headline_text'].map(lambda x : sentiment_analyzer.polarity_scores(x)['compound'])\n",
        "# positive sentiment\n",
        "indian_news['positive'] = indian_news['headline_text'].map(lambda x : sentiment_analyzer.polarity_scores(x)['pos'])\n",
        "# negative sentiment\n",
        "indian_news['negative'] = indian_news['headline_text'].map(lambda x : sentiment_analyzer.polarity_scores(x)['neg'])\n",
        "# neutral sentiment\n",
        "indian_news['neutral'] =indian_news['headline_text'].map(lambda x : sentiment_analyzer.polarity_scores(x)['neu'])"
      ],
      "metadata": {
        "id": "005Yr3P_Sbpq"
      },
      "id": "005Yr3P_Sbpq",
      "execution_count": 84,
      "outputs": []
    },
    {
      "cell_type": "code",
      "source": [
        "# explore the textual data after determining polarity and subjectivity and apply sentiment analysis\n",
        "indian_news"
      ],
      "metadata": {
        "colab": {
          "base_uri": "https://localhost:8080/",
          "height": 424
        },
        "id": "u-u5QtlKUfOl",
        "outputId": "5bc39b22-cb47-460f-a12f-f57394cdff5a"
      },
      "id": "u-u5QtlKUfOl",
      "execution_count": 85,
      "outputs": [
        {
          "output_type": "execute_result",
          "data": {
            "text/plain": [
              "     publish_date                                      headline_text  \\\n",
              "0      2001-01-02         status quo disturbed ayodhya says vajpayee   \n",
              "1      2001-01-03                  powerless north india gropes dark   \n",
              "2      2001-01-04                string pulled stephen hawking india   \n",
              "3      2001-01-05          light combat craft takes india club class   \n",
              "4      2001-01-07                    muslim body rules talks ayodhya   \n",
              "...           ...                                                ...   \n",
              "7671   2022-03-27  playing dead man body god meant sitting refrig...   \n",
              "7672   2022-03-28           fashion democratic demand stylists soars   \n",
              "7673   2022-03-29               bobby deol like dad hope working age   \n",
              "7674   2022-03-30                                    trends dossmode   \n",
              "7675   2022-03-31  shashank goes coastal karnataka moggina manasu...   \n",
              "\n",
              "      polarity  subjectivity  compound  positive  negative  neutral  \n",
              "0        0.000          0.00   -0.3818     0.000     0.342    0.658  \n",
              "1       -0.325          0.65   -0.4939     0.000     0.444    0.556  \n",
              "2        0.000          0.00    0.0000     0.000     0.000    1.000  \n",
              "3        0.400          0.70   -0.3400     0.000     0.286    0.714  \n",
              "4        0.000          0.00    0.0000     0.000     0.000    1.000  \n",
              "...        ...           ...       ...       ...       ...      ...  \n",
              "7671    -0.200          0.40   -0.3400     0.275     0.303    0.423  \n",
              "7672     0.000          0.00   -0.1280     0.000     0.273    0.727  \n",
              "7673     0.000          0.00    0.6597     0.519     0.000    0.481  \n",
              "7674     0.000          0.00    0.0000     0.000     0.000    1.000  \n",
              "7675     0.000          0.00    0.0000     0.000     0.000    1.000  \n",
              "\n",
              "[7676 rows x 8 columns]"
            ],
            "text/html": [
              "\n",
              "  <div id=\"df-d9942f89-4f1b-4dc4-af80-98521b984482\">\n",
              "    <div class=\"colab-df-container\">\n",
              "      <div>\n",
              "<style scoped>\n",
              "    .dataframe tbody tr th:only-of-type {\n",
              "        vertical-align: middle;\n",
              "    }\n",
              "\n",
              "    .dataframe tbody tr th {\n",
              "        vertical-align: top;\n",
              "    }\n",
              "\n",
              "    .dataframe thead th {\n",
              "        text-align: right;\n",
              "    }\n",
              "</style>\n",
              "<table border=\"1\" class=\"dataframe\">\n",
              "  <thead>\n",
              "    <tr style=\"text-align: right;\">\n",
              "      <th></th>\n",
              "      <th>publish_date</th>\n",
              "      <th>headline_text</th>\n",
              "      <th>polarity</th>\n",
              "      <th>subjectivity</th>\n",
              "      <th>compound</th>\n",
              "      <th>positive</th>\n",
              "      <th>negative</th>\n",
              "      <th>neutral</th>\n",
              "    </tr>\n",
              "  </thead>\n",
              "  <tbody>\n",
              "    <tr>\n",
              "      <th>0</th>\n",
              "      <td>2001-01-02</td>\n",
              "      <td>status quo disturbed ayodhya says vajpayee</td>\n",
              "      <td>0.000</td>\n",
              "      <td>0.00</td>\n",
              "      <td>-0.3818</td>\n",
              "      <td>0.000</td>\n",
              "      <td>0.342</td>\n",
              "      <td>0.658</td>\n",
              "    </tr>\n",
              "    <tr>\n",
              "      <th>1</th>\n",
              "      <td>2001-01-03</td>\n",
              "      <td>powerless north india gropes dark</td>\n",
              "      <td>-0.325</td>\n",
              "      <td>0.65</td>\n",
              "      <td>-0.4939</td>\n",
              "      <td>0.000</td>\n",
              "      <td>0.444</td>\n",
              "      <td>0.556</td>\n",
              "    </tr>\n",
              "    <tr>\n",
              "      <th>2</th>\n",
              "      <td>2001-01-04</td>\n",
              "      <td>string pulled stephen hawking india</td>\n",
              "      <td>0.000</td>\n",
              "      <td>0.00</td>\n",
              "      <td>0.0000</td>\n",
              "      <td>0.000</td>\n",
              "      <td>0.000</td>\n",
              "      <td>1.000</td>\n",
              "    </tr>\n",
              "    <tr>\n",
              "      <th>3</th>\n",
              "      <td>2001-01-05</td>\n",
              "      <td>light combat craft takes india club class</td>\n",
              "      <td>0.400</td>\n",
              "      <td>0.70</td>\n",
              "      <td>-0.3400</td>\n",
              "      <td>0.000</td>\n",
              "      <td>0.286</td>\n",
              "      <td>0.714</td>\n",
              "    </tr>\n",
              "    <tr>\n",
              "      <th>4</th>\n",
              "      <td>2001-01-07</td>\n",
              "      <td>muslim body rules talks ayodhya</td>\n",
              "      <td>0.000</td>\n",
              "      <td>0.00</td>\n",
              "      <td>0.0000</td>\n",
              "      <td>0.000</td>\n",
              "      <td>0.000</td>\n",
              "      <td>1.000</td>\n",
              "    </tr>\n",
              "    <tr>\n",
              "      <th>...</th>\n",
              "      <td>...</td>\n",
              "      <td>...</td>\n",
              "      <td>...</td>\n",
              "      <td>...</td>\n",
              "      <td>...</td>\n",
              "      <td>...</td>\n",
              "      <td>...</td>\n",
              "      <td>...</td>\n",
              "    </tr>\n",
              "    <tr>\n",
              "      <th>7671</th>\n",
              "      <td>2022-03-27</td>\n",
              "      <td>playing dead man body god meant sitting refrig...</td>\n",
              "      <td>-0.200</td>\n",
              "      <td>0.40</td>\n",
              "      <td>-0.3400</td>\n",
              "      <td>0.275</td>\n",
              "      <td>0.303</td>\n",
              "      <td>0.423</td>\n",
              "    </tr>\n",
              "    <tr>\n",
              "      <th>7672</th>\n",
              "      <td>2022-03-28</td>\n",
              "      <td>fashion democratic demand stylists soars</td>\n",
              "      <td>0.000</td>\n",
              "      <td>0.00</td>\n",
              "      <td>-0.1280</td>\n",
              "      <td>0.000</td>\n",
              "      <td>0.273</td>\n",
              "      <td>0.727</td>\n",
              "    </tr>\n",
              "    <tr>\n",
              "      <th>7673</th>\n",
              "      <td>2022-03-29</td>\n",
              "      <td>bobby deol like dad hope working age</td>\n",
              "      <td>0.000</td>\n",
              "      <td>0.00</td>\n",
              "      <td>0.6597</td>\n",
              "      <td>0.519</td>\n",
              "      <td>0.000</td>\n",
              "      <td>0.481</td>\n",
              "    </tr>\n",
              "    <tr>\n",
              "      <th>7674</th>\n",
              "      <td>2022-03-30</td>\n",
              "      <td>trends dossmode</td>\n",
              "      <td>0.000</td>\n",
              "      <td>0.00</td>\n",
              "      <td>0.0000</td>\n",
              "      <td>0.000</td>\n",
              "      <td>0.000</td>\n",
              "      <td>1.000</td>\n",
              "    </tr>\n",
              "    <tr>\n",
              "      <th>7675</th>\n",
              "      <td>2022-03-31</td>\n",
              "      <td>shashank goes coastal karnataka moggina manasu...</td>\n",
              "      <td>0.000</td>\n",
              "      <td>0.00</td>\n",
              "      <td>0.0000</td>\n",
              "      <td>0.000</td>\n",
              "      <td>0.000</td>\n",
              "      <td>1.000</td>\n",
              "    </tr>\n",
              "  </tbody>\n",
              "</table>\n",
              "<p>7676 rows × 8 columns</p>\n",
              "</div>\n",
              "      <button class=\"colab-df-convert\" onclick=\"convertToInteractive('df-d9942f89-4f1b-4dc4-af80-98521b984482')\"\n",
              "              title=\"Convert this dataframe to an interactive table.\"\n",
              "              style=\"display:none;\">\n",
              "        \n",
              "  <svg xmlns=\"http://www.w3.org/2000/svg\" height=\"24px\"viewBox=\"0 0 24 24\"\n",
              "       width=\"24px\">\n",
              "    <path d=\"M0 0h24v24H0V0z\" fill=\"none\"/>\n",
              "    <path d=\"M18.56 5.44l.94 2.06.94-2.06 2.06-.94-2.06-.94-.94-2.06-.94 2.06-2.06.94zm-11 1L8.5 8.5l.94-2.06 2.06-.94-2.06-.94L8.5 2.5l-.94 2.06-2.06.94zm10 10l.94 2.06.94-2.06 2.06-.94-2.06-.94-.94-2.06-.94 2.06-2.06.94z\"/><path d=\"M17.41 7.96l-1.37-1.37c-.4-.4-.92-.59-1.43-.59-.52 0-1.04.2-1.43.59L10.3 9.45l-7.72 7.72c-.78.78-.78 2.05 0 2.83L4 21.41c.39.39.9.59 1.41.59.51 0 1.02-.2 1.41-.59l7.78-7.78 2.81-2.81c.8-.78.8-2.07 0-2.86zM5.41 20L4 18.59l7.72-7.72 1.47 1.35L5.41 20z\"/>\n",
              "  </svg>\n",
              "      </button>\n",
              "      \n",
              "  <style>\n",
              "    .colab-df-container {\n",
              "      display:flex;\n",
              "      flex-wrap:wrap;\n",
              "      gap: 12px;\n",
              "    }\n",
              "\n",
              "    .colab-df-convert {\n",
              "      background-color: #E8F0FE;\n",
              "      border: none;\n",
              "      border-radius: 50%;\n",
              "      cursor: pointer;\n",
              "      display: none;\n",
              "      fill: #1967D2;\n",
              "      height: 32px;\n",
              "      padding: 0 0 0 0;\n",
              "      width: 32px;\n",
              "    }\n",
              "\n",
              "    .colab-df-convert:hover {\n",
              "      background-color: #E2EBFA;\n",
              "      box-shadow: 0px 1px 2px rgba(60, 64, 67, 0.3), 0px 1px 3px 1px rgba(60, 64, 67, 0.15);\n",
              "      fill: #174EA6;\n",
              "    }\n",
              "\n",
              "    [theme=dark] .colab-df-convert {\n",
              "      background-color: #3B4455;\n",
              "      fill: #D2E3FC;\n",
              "    }\n",
              "\n",
              "    [theme=dark] .colab-df-convert:hover {\n",
              "      background-color: #434B5C;\n",
              "      box-shadow: 0px 1px 3px 1px rgba(0, 0, 0, 0.15);\n",
              "      filter: drop-shadow(0px 1px 2px rgba(0, 0, 0, 0.3));\n",
              "      fill: #FFFFFF;\n",
              "    }\n",
              "  </style>\n",
              "\n",
              "      <script>\n",
              "        const buttonEl =\n",
              "          document.querySelector('#df-d9942f89-4f1b-4dc4-af80-98521b984482 button.colab-df-convert');\n",
              "        buttonEl.style.display =\n",
              "          google.colab.kernel.accessAllowed ? 'block' : 'none';\n",
              "\n",
              "        async function convertToInteractive(key) {\n",
              "          const element = document.querySelector('#df-d9942f89-4f1b-4dc4-af80-98521b984482');\n",
              "          const dataTable =\n",
              "            await google.colab.kernel.invokeFunction('convertToInteractive',\n",
              "                                                     [key], {});\n",
              "          if (!dataTable) return;\n",
              "\n",
              "          const docLinkHtml = 'Like what you see? Visit the ' +\n",
              "            '<a target=\"_blank\" href=https://colab.research.google.com/notebooks/data_table.ipynb>data table notebook</a>'\n",
              "            + ' to learn more about interactive tables.';\n",
              "          element.innerHTML = '';\n",
              "          dataTable['output_type'] = 'display_data';\n",
              "          await google.colab.output.renderOutput(dataTable, element);\n",
              "          const docLink = document.createElement('div');\n",
              "          docLink.innerHTML = docLinkHtml;\n",
              "          element.appendChild(docLink);\n",
              "        }\n",
              "      </script>\n",
              "    </div>\n",
              "  </div>\n",
              "  "
            ]
          },
          "metadata": {},
          "execution_count": 85
        }
      ]
    },
    {
      "cell_type": "markdown",
      "source": [
        "## Part2: Numerical Analysis of Historical Stock Prices"
      ],
      "metadata": {
        "id": "3zEN3y7BWagt"
      },
      "id": "3zEN3y7BWagt"
    },
    {
      "cell_type": "markdown",
      "source": [
        "## Read Numerical Data"
      ],
      "metadata": {
        "id": "5GfPDNTwXAdu"
      },
      "id": "5GfPDNTwXAdu"
    },
    {
      "cell_type": "code",
      "source": [
        "stock_prices = pd.read_csv('drive/MyDrive/^IXIC.csv')\n",
        "stock_prices.shape"
      ],
      "metadata": {
        "colab": {
          "base_uri": "https://localhost:8080/"
        },
        "id": "fBuxigpJUjUx",
        "outputId": "69d14b06-92fe-42e4-8a9e-182eab0c5ffb"
      },
      "id": "fBuxigpJUjUx",
      "execution_count": 112,
      "outputs": [
        {
          "output_type": "execute_result",
          "data": {
            "text/plain": [
              "(5345, 7)"
            ]
          },
          "metadata": {},
          "execution_count": 112
        }
      ]
    },
    {
      "cell_type": "code",
      "source": [
        "stock_prices.head(15)"
      ],
      "metadata": {
        "colab": {
          "base_uri": "https://localhost:8080/",
          "height": 520
        },
        "id": "qY5Wymt7lHqP",
        "outputId": "3f7b5d1a-651b-417f-85e9-ecfcc7f7a530"
      },
      "id": "qY5Wymt7lHqP",
      "execution_count": 113,
      "outputs": [
        {
          "output_type": "execute_result",
          "data": {
            "text/plain": [
              "          Date         Open         High          Low        Close  \\\n",
              "0   02/01/2001  2474.159912  2474.159912  2273.070068  2291.860107   \n",
              "1   03/01/2001  2254.560059  2618.030029  2251.709961  2616.689941   \n",
              "2   04/01/2001  2593.959961  2644.800049  2549.830078  2566.830078   \n",
              "3   05/01/2001  2573.110107  2574.620117  2395.389893  2407.649902   \n",
              "4   08/01/2001  2388.719971  2397.060059  2299.649902  2395.919922   \n",
              "5   09/01/2001  2424.689941  2474.159912  2406.080078  2441.300049   \n",
              "6   10/01/2001  2392.709961  2525.280029  2376.489990  2524.179932   \n",
              "7   11/01/2001  2495.590088  2661.929932  2495.010010  2640.570068   \n",
              "8   12/01/2001  2639.560059  2699.870117  2589.629883  2626.500000   \n",
              "9   16/01/2001  2631.489990  2638.219971  2576.949951  2618.550049   \n",
              "10  17/01/2001  2710.530029  2756.629883  2668.479980  2682.780029   \n",
              "11  18/01/2001  2696.739990  2769.979980  2661.260010  2768.489990   \n",
              "12  19/01/2001  2838.360107  2841.250000  2752.060059  2770.379883   \n",
              "13  22/01/2001  2759.100098  2789.629883  2722.959961  2757.909912   \n",
              "14  23/01/2001  2759.260010  2845.389893  2736.280029  2840.389893   \n",
              "\n",
              "      Adj Close      Volume  \n",
              "0   2291.860107  1918930000  \n",
              "1   2616.689941  3188000000  \n",
              "2   2566.830078  2610680000  \n",
              "3   2407.649902  2104670000  \n",
              "4   2395.919922  1850590000  \n",
              "5   2441.300049  1975130000  \n",
              "6   2524.179932  2470350000  \n",
              "7   2640.570068  2842640000  \n",
              "8   2626.500000  2518850000  \n",
              "9   2618.550049  2073940000  \n",
              "10  2682.780029  2819190000  \n",
              "11  2768.489990  2558710000  \n",
              "12  2770.379883  2697190000  \n",
              "13  2757.909912  2037140000  \n",
              "14  2840.389893  2278470000  "
            ],
            "text/html": [
              "\n",
              "  <div id=\"df-ed5d00f9-81a8-4855-8136-98245ea33a0f\">\n",
              "    <div class=\"colab-df-container\">\n",
              "      <div>\n",
              "<style scoped>\n",
              "    .dataframe tbody tr th:only-of-type {\n",
              "        vertical-align: middle;\n",
              "    }\n",
              "\n",
              "    .dataframe tbody tr th {\n",
              "        vertical-align: top;\n",
              "    }\n",
              "\n",
              "    .dataframe thead th {\n",
              "        text-align: right;\n",
              "    }\n",
              "</style>\n",
              "<table border=\"1\" class=\"dataframe\">\n",
              "  <thead>\n",
              "    <tr style=\"text-align: right;\">\n",
              "      <th></th>\n",
              "      <th>Date</th>\n",
              "      <th>Open</th>\n",
              "      <th>High</th>\n",
              "      <th>Low</th>\n",
              "      <th>Close</th>\n",
              "      <th>Adj Close</th>\n",
              "      <th>Volume</th>\n",
              "    </tr>\n",
              "  </thead>\n",
              "  <tbody>\n",
              "    <tr>\n",
              "      <th>0</th>\n",
              "      <td>02/01/2001</td>\n",
              "      <td>2474.159912</td>\n",
              "      <td>2474.159912</td>\n",
              "      <td>2273.070068</td>\n",
              "      <td>2291.860107</td>\n",
              "      <td>2291.860107</td>\n",
              "      <td>1918930000</td>\n",
              "    </tr>\n",
              "    <tr>\n",
              "      <th>1</th>\n",
              "      <td>03/01/2001</td>\n",
              "      <td>2254.560059</td>\n",
              "      <td>2618.030029</td>\n",
              "      <td>2251.709961</td>\n",
              "      <td>2616.689941</td>\n",
              "      <td>2616.689941</td>\n",
              "      <td>3188000000</td>\n",
              "    </tr>\n",
              "    <tr>\n",
              "      <th>2</th>\n",
              "      <td>04/01/2001</td>\n",
              "      <td>2593.959961</td>\n",
              "      <td>2644.800049</td>\n",
              "      <td>2549.830078</td>\n",
              "      <td>2566.830078</td>\n",
              "      <td>2566.830078</td>\n",
              "      <td>2610680000</td>\n",
              "    </tr>\n",
              "    <tr>\n",
              "      <th>3</th>\n",
              "      <td>05/01/2001</td>\n",
              "      <td>2573.110107</td>\n",
              "      <td>2574.620117</td>\n",
              "      <td>2395.389893</td>\n",
              "      <td>2407.649902</td>\n",
              "      <td>2407.649902</td>\n",
              "      <td>2104670000</td>\n",
              "    </tr>\n",
              "    <tr>\n",
              "      <th>4</th>\n",
              "      <td>08/01/2001</td>\n",
              "      <td>2388.719971</td>\n",
              "      <td>2397.060059</td>\n",
              "      <td>2299.649902</td>\n",
              "      <td>2395.919922</td>\n",
              "      <td>2395.919922</td>\n",
              "      <td>1850590000</td>\n",
              "    </tr>\n",
              "    <tr>\n",
              "      <th>5</th>\n",
              "      <td>09/01/2001</td>\n",
              "      <td>2424.689941</td>\n",
              "      <td>2474.159912</td>\n",
              "      <td>2406.080078</td>\n",
              "      <td>2441.300049</td>\n",
              "      <td>2441.300049</td>\n",
              "      <td>1975130000</td>\n",
              "    </tr>\n",
              "    <tr>\n",
              "      <th>6</th>\n",
              "      <td>10/01/2001</td>\n",
              "      <td>2392.709961</td>\n",
              "      <td>2525.280029</td>\n",
              "      <td>2376.489990</td>\n",
              "      <td>2524.179932</td>\n",
              "      <td>2524.179932</td>\n",
              "      <td>2470350000</td>\n",
              "    </tr>\n",
              "    <tr>\n",
              "      <th>7</th>\n",
              "      <td>11/01/2001</td>\n",
              "      <td>2495.590088</td>\n",
              "      <td>2661.929932</td>\n",
              "      <td>2495.010010</td>\n",
              "      <td>2640.570068</td>\n",
              "      <td>2640.570068</td>\n",
              "      <td>2842640000</td>\n",
              "    </tr>\n",
              "    <tr>\n",
              "      <th>8</th>\n",
              "      <td>12/01/2001</td>\n",
              "      <td>2639.560059</td>\n",
              "      <td>2699.870117</td>\n",
              "      <td>2589.629883</td>\n",
              "      <td>2626.500000</td>\n",
              "      <td>2626.500000</td>\n",
              "      <td>2518850000</td>\n",
              "    </tr>\n",
              "    <tr>\n",
              "      <th>9</th>\n",
              "      <td>16/01/2001</td>\n",
              "      <td>2631.489990</td>\n",
              "      <td>2638.219971</td>\n",
              "      <td>2576.949951</td>\n",
              "      <td>2618.550049</td>\n",
              "      <td>2618.550049</td>\n",
              "      <td>2073940000</td>\n",
              "    </tr>\n",
              "    <tr>\n",
              "      <th>10</th>\n",
              "      <td>17/01/2001</td>\n",
              "      <td>2710.530029</td>\n",
              "      <td>2756.629883</td>\n",
              "      <td>2668.479980</td>\n",
              "      <td>2682.780029</td>\n",
              "      <td>2682.780029</td>\n",
              "      <td>2819190000</td>\n",
              "    </tr>\n",
              "    <tr>\n",
              "      <th>11</th>\n",
              "      <td>18/01/2001</td>\n",
              "      <td>2696.739990</td>\n",
              "      <td>2769.979980</td>\n",
              "      <td>2661.260010</td>\n",
              "      <td>2768.489990</td>\n",
              "      <td>2768.489990</td>\n",
              "      <td>2558710000</td>\n",
              "    </tr>\n",
              "    <tr>\n",
              "      <th>12</th>\n",
              "      <td>19/01/2001</td>\n",
              "      <td>2838.360107</td>\n",
              "      <td>2841.250000</td>\n",
              "      <td>2752.060059</td>\n",
              "      <td>2770.379883</td>\n",
              "      <td>2770.379883</td>\n",
              "      <td>2697190000</td>\n",
              "    </tr>\n",
              "    <tr>\n",
              "      <th>13</th>\n",
              "      <td>22/01/2001</td>\n",
              "      <td>2759.100098</td>\n",
              "      <td>2789.629883</td>\n",
              "      <td>2722.959961</td>\n",
              "      <td>2757.909912</td>\n",
              "      <td>2757.909912</td>\n",
              "      <td>2037140000</td>\n",
              "    </tr>\n",
              "    <tr>\n",
              "      <th>14</th>\n",
              "      <td>23/01/2001</td>\n",
              "      <td>2759.260010</td>\n",
              "      <td>2845.389893</td>\n",
              "      <td>2736.280029</td>\n",
              "      <td>2840.389893</td>\n",
              "      <td>2840.389893</td>\n",
              "      <td>2278470000</td>\n",
              "    </tr>\n",
              "  </tbody>\n",
              "</table>\n",
              "</div>\n",
              "      <button class=\"colab-df-convert\" onclick=\"convertToInteractive('df-ed5d00f9-81a8-4855-8136-98245ea33a0f')\"\n",
              "              title=\"Convert this dataframe to an interactive table.\"\n",
              "              style=\"display:none;\">\n",
              "        \n",
              "  <svg xmlns=\"http://www.w3.org/2000/svg\" height=\"24px\"viewBox=\"0 0 24 24\"\n",
              "       width=\"24px\">\n",
              "    <path d=\"M0 0h24v24H0V0z\" fill=\"none\"/>\n",
              "    <path d=\"M18.56 5.44l.94 2.06.94-2.06 2.06-.94-2.06-.94-.94-2.06-.94 2.06-2.06.94zm-11 1L8.5 8.5l.94-2.06 2.06-.94-2.06-.94L8.5 2.5l-.94 2.06-2.06.94zm10 10l.94 2.06.94-2.06 2.06-.94-2.06-.94-.94-2.06-.94 2.06-2.06.94z\"/><path d=\"M17.41 7.96l-1.37-1.37c-.4-.4-.92-.59-1.43-.59-.52 0-1.04.2-1.43.59L10.3 9.45l-7.72 7.72c-.78.78-.78 2.05 0 2.83L4 21.41c.39.39.9.59 1.41.59.51 0 1.02-.2 1.41-.59l7.78-7.78 2.81-2.81c.8-.78.8-2.07 0-2.86zM5.41 20L4 18.59l7.72-7.72 1.47 1.35L5.41 20z\"/>\n",
              "  </svg>\n",
              "      </button>\n",
              "      \n",
              "  <style>\n",
              "    .colab-df-container {\n",
              "      display:flex;\n",
              "      flex-wrap:wrap;\n",
              "      gap: 12px;\n",
              "    }\n",
              "\n",
              "    .colab-df-convert {\n",
              "      background-color: #E8F0FE;\n",
              "      border: none;\n",
              "      border-radius: 50%;\n",
              "      cursor: pointer;\n",
              "      display: none;\n",
              "      fill: #1967D2;\n",
              "      height: 32px;\n",
              "      padding: 0 0 0 0;\n",
              "      width: 32px;\n",
              "    }\n",
              "\n",
              "    .colab-df-convert:hover {\n",
              "      background-color: #E2EBFA;\n",
              "      box-shadow: 0px 1px 2px rgba(60, 64, 67, 0.3), 0px 1px 3px 1px rgba(60, 64, 67, 0.15);\n",
              "      fill: #174EA6;\n",
              "    }\n",
              "\n",
              "    [theme=dark] .colab-df-convert {\n",
              "      background-color: #3B4455;\n",
              "      fill: #D2E3FC;\n",
              "    }\n",
              "\n",
              "    [theme=dark] .colab-df-convert:hover {\n",
              "      background-color: #434B5C;\n",
              "      box-shadow: 0px 1px 3px 1px rgba(0, 0, 0, 0.15);\n",
              "      filter: drop-shadow(0px 1px 2px rgba(0, 0, 0, 0.3));\n",
              "      fill: #FFFFFF;\n",
              "    }\n",
              "  </style>\n",
              "\n",
              "      <script>\n",
              "        const buttonEl =\n",
              "          document.querySelector('#df-ed5d00f9-81a8-4855-8136-98245ea33a0f button.colab-df-convert');\n",
              "        buttonEl.style.display =\n",
              "          google.colab.kernel.accessAllowed ? 'block' : 'none';\n",
              "\n",
              "        async function convertToInteractive(key) {\n",
              "          const element = document.querySelector('#df-ed5d00f9-81a8-4855-8136-98245ea33a0f');\n",
              "          const dataTable =\n",
              "            await google.colab.kernel.invokeFunction('convertToInteractive',\n",
              "                                                     [key], {});\n",
              "          if (!dataTable) return;\n",
              "\n",
              "          const docLinkHtml = 'Like what you see? Visit the ' +\n",
              "            '<a target=\"_blank\" href=https://colab.research.google.com/notebooks/data_table.ipynb>data table notebook</a>'\n",
              "            + ' to learn more about interactive tables.';\n",
              "          element.innerHTML = '';\n",
              "          dataTable['output_type'] = 'display_data';\n",
              "          await google.colab.output.renderOutput(dataTable, element);\n",
              "          const docLink = document.createElement('div');\n",
              "          docLink.innerHTML = docLinkHtml;\n",
              "          element.appendChild(docLink);\n",
              "        }\n",
              "      </script>\n",
              "    </div>\n",
              "  </div>\n",
              "  "
            ]
          },
          "metadata": {},
          "execution_count": 113
        }
      ]
    },
    {
      "cell_type": "code",
      "source": [
        "stock_prices.info()"
      ],
      "metadata": {
        "colab": {
          "base_uri": "https://localhost:8080/"
        },
        "id": "OlPlmdojlTvQ",
        "outputId": "b4d6626f-d00c-4e2a-d504-13463cb0df4e"
      },
      "id": "OlPlmdojlTvQ",
      "execution_count": 114,
      "outputs": [
        {
          "output_type": "stream",
          "name": "stdout",
          "text": [
            "<class 'pandas.core.frame.DataFrame'>\n",
            "RangeIndex: 5345 entries, 0 to 5344\n",
            "Data columns (total 7 columns):\n",
            " #   Column     Non-Null Count  Dtype  \n",
            "---  ------     --------------  -----  \n",
            " 0   Date       5345 non-null   object \n",
            " 1   Open       5345 non-null   float64\n",
            " 2   High       5345 non-null   float64\n",
            " 3   Low        5345 non-null   float64\n",
            " 4   Close      5345 non-null   float64\n",
            " 5   Adj Close  5345 non-null   float64\n",
            " 6   Volume     5345 non-null   int64  \n",
            "dtypes: float64(5), int64(1), object(1)\n",
            "memory usage: 292.4+ KB\n"
          ]
        }
      ]
    },
    {
      "cell_type": "markdown",
      "source": [
        "## Preprocessing for Historical Stock Prices Data"
      ],
      "metadata": {
        "id": "_AiMe-trmUUu"
      },
      "id": "_AiMe-trmUUu"
    },
    {
      "cell_type": "code",
      "source": [
        "# convert the date format to match the date format in the textual data\n",
        "stock_prices['Date'] = stock_prices['Date'].map(lambda x : datetime.strptime(x,'%d/%m/%Y').strftime('%Y-%m-%d'))"
      ],
      "metadata": {
        "id": "dWWV4usBmT4h"
      },
      "id": "dWWV4usBmT4h",
      "execution_count": 115,
      "outputs": []
    },
    {
      "cell_type": "code",
      "source": [
        "# utility function\n",
        "def plot_series(time, series, format=\"-\", start=0, end=None):\n",
        "    plt.plot(time[start:end], series[start:end], format)\n",
        "    plt.xlabel(\"Time\")\n",
        "    plt.ylabel(\"Value\")\n",
        "    plt.grid(True)"
      ],
      "metadata": {
        "id": "myUNUHiduAPZ"
      },
      "id": "myUNUHiduAPZ",
      "execution_count": 116,
      "outputs": []
    },
    {
      "cell_type": "code",
      "source": [
        "# extract the close from the stock prices as this is the column that we are concerned about\n",
        "series = np.array(stock_prices['Close'])\n",
        "# make time series equal to the length of Date column\n",
        "time = np.arange(len(stock_prices['Date']))"
      ],
      "metadata": {
        "id": "wuJaiC1znYwc"
      },
      "id": "wuJaiC1znYwc",
      "execution_count": 117,
      "outputs": []
    },
    {
      "cell_type": "code",
      "source": [
        "# utility function\n",
        "def train_val_split(time, series, time_step):\n",
        "\n",
        "    time_train = time[:time_step]\n",
        "    series_train = series[:time_step]\n",
        "    time_valid = time[time_step:]\n",
        "    series_valid = series[time_step:]\n",
        "\n",
        "    return time_train, series_train, time_valid, series_valid"
      ],
      "metadata": {
        "id": "Bvb5lQvXnzGB"
      },
      "id": "Bvb5lQvXnzGB",
      "execution_count": 118,
      "outputs": []
    },
    {
      "cell_type": "code",
      "source": [
        "# split the data\n",
        "time_train, series_train, time_valid, series_valid = train_val_split(time, series,4345)"
      ],
      "metadata": {
        "id": "z3Fg9vSTuafX"
      },
      "id": "z3Fg9vSTuafX",
      "execution_count": 119,
      "outputs": []
    },
    {
      "cell_type": "code",
      "source": [
        "# utility function\n",
        "def windowed_dataset(series, window_size, batch_size, shuffle_buffer):\n",
        "    ds = tf.data.Dataset.from_tensor_slices(series)\n",
        "    ds = ds.window(window_size + 1, shift=1, drop_remainder=True)\n",
        "    ds = ds.flat_map(lambda w: w.batch(window_size + 1))\n",
        "    ds = ds.shuffle(shuffle_buffer)\n",
        "    ds = ds.map(lambda w: (w[:-1], w[-1]))\n",
        "    ds = ds.batch(batch_size).prefetch(1)\n",
        "    return ds"
      ],
      "metadata": {
        "id": "JQUfm3nsutwn"
      },
      "id": "JQUfm3nsutwn",
      "execution_count": 120,
      "outputs": []
    },
    {
      "cell_type": "code",
      "source": [
        "batch_size = 256\n",
        "window_size = 64\n",
        "shuffle_buffer_size = 1000"
      ],
      "metadata": {
        "id": "opOP9urRu19U"
      },
      "id": "opOP9urRu19U",
      "execution_count": 121,
      "outputs": []
    },
    {
      "cell_type": "code",
      "source": [
        "# apply transformation to the data\n",
        "train_set = windowed_dataset(series_train, window_size=window_size, batch_size=batch_size, shuffle_buffer=shuffle_buffer_size)"
      ],
      "metadata": {
        "id": "PXHES5movSqe"
      },
      "id": "PXHES5movSqe",
      "execution_count": 122,
      "outputs": []
    },
    {
      "cell_type": "code",
      "source": [
        "# plot the data\n",
        "plot_series(time, series)"
      ],
      "metadata": {
        "colab": {
          "base_uri": "https://localhost:8080/",
          "height": 279
        },
        "id": "oujnzYwovwJ2",
        "outputId": "02059160-d13a-4ab9-b7da-710d7ca63656"
      },
      "id": "oujnzYwovwJ2",
      "execution_count": 123,
      "outputs": [
        {
          "output_type": "display_data",
          "data": {
            "text/plain": [
              "<Figure size 432x288 with 1 Axes>"
            ],
            "image/png": "[encoded data removed]"
          },
          "metadata": {
            "needs_background": "light"
          }
        }
      ]
    },
    {
      "cell_type": "code",
      "source": [],
      "metadata": {
        "id": "FA7RVblxv7KQ"
      },
      "id": "FA7RVblxv7KQ",
      "execution_count": 123,
      "outputs": []
    }
  ],
  "metadata": {
    "kernelspec": {
      "display_name": "Python 3",
      "language": "python",
      "name": "python3"
    },
    "language_info": {
      "codemirror_mode": {
        "name": "ipython",
        "version": 3
      },
      "file_extension": ".py",
      "mimetype": "text/x-python",
      "name": "python",
      "nbconvert_exporter": "python",
      "pygments_lexer": "ipython3",
      "version": "3.8.8"
    },
    "colab": {
      "provenance": [],
      "collapsed_sections": []
    }
  },
  "nbformat": 4,
  "nbformat_minor": 5
}
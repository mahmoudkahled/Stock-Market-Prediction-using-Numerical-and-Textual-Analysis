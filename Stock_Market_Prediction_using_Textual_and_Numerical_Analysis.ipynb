{
  "cells": [
    {
      "cell_type": "markdown",
      "id": "196aed3a",
      "metadata": {
        "id": "196aed3a"
      },
      "source": [
        "## Load Libraries Needed"
      ]
    },
    {
      "cell_type": "code",
      "source": [
        "!pip install pmdarima"
      ],
      "metadata": {
        "colab": {
          "base_uri": "https://localhost:8080/"
        },
        "id": "ZJdZw-RcgGof",
        "outputId": "129e635d-0904-4c5f-bcd4-437c1b47efa5"
      },
      "id": "ZJdZw-RcgGof",
      "execution_count": 1,
      "outputs": [
        {
          "output_type": "stream",
          "name": "stdout",
          "text": [
            "Looking in indexes: https://pypi.org/simple, https://us-python.pkg.dev/colab-wheels/public/simple/\n",
            "Requirement already satisfied: pmdarima in /usr/local/lib/python3.7/dist-packages (2.0.1)\n",
            "Requirement already satisfied: scipy>=1.3.2 in /usr/local/lib/python3.7/dist-packages (from pmdarima) (1.7.3)\n",
            "Requirement already satisfied: pandas>=0.19 in /usr/local/lib/python3.7/dist-packages (from pmdarima) (1.3.5)\n",
            "Requirement already satisfied: numpy>=1.21 in /usr/local/lib/python3.7/dist-packages (from pmdarima) (1.21.6)\n",
            "Requirement already satisfied: urllib3 in /usr/local/lib/python3.7/dist-packages (from pmdarima) (1.24.3)\n",
            "Requirement already satisfied: Cython!=0.29.18,!=0.29.31,>=0.29 in /usr/local/lib/python3.7/dist-packages (from pmdarima) (0.29.32)\n",
            "Requirement already satisfied: statsmodels>=0.13.2 in /usr/local/lib/python3.7/dist-packages (from pmdarima) (0.13.2)\n",
            "Requirement already satisfied: scikit-learn>=0.22 in /usr/local/lib/python3.7/dist-packages (from pmdarima) (1.0.2)\n",
            "Requirement already satisfied: joblib>=0.11 in /usr/local/lib/python3.7/dist-packages (from pmdarima) (1.2.0)\n",
            "Requirement already satisfied: setuptools!=50.0.0,>=38.6.0 in /usr/local/lib/python3.7/dist-packages (from pmdarima) (57.4.0)\n",
            "Requirement already satisfied: python-dateutil>=2.7.3 in /usr/local/lib/python3.7/dist-packages (from pandas>=0.19->pmdarima) (2.8.2)\n",
            "Requirement already satisfied: pytz>=2017.3 in /usr/local/lib/python3.7/dist-packages (from pandas>=0.19->pmdarima) (2022.4)\n",
            "Requirement already satisfied: six>=1.5 in /usr/local/lib/python3.7/dist-packages (from python-dateutil>=2.7.3->pandas>=0.19->pmdarima) (1.15.0)\n",
            "Requirement already satisfied: threadpoolctl>=2.0.0 in /usr/local/lib/python3.7/dist-packages (from scikit-learn>=0.22->pmdarima) (3.1.0)\n",
            "Requirement already satisfied: patsy>=0.5.2 in /usr/local/lib/python3.7/dist-packages (from statsmodels>=0.13.2->pmdarima) (0.5.3)\n",
            "Requirement already satisfied: packaging>=21.3 in /usr/local/lib/python3.7/dist-packages (from statsmodels>=0.13.2->pmdarima) (21.3)\n",
            "Requirement already satisfied: pyparsing!=3.0.5,>=2.0.2 in /usr/local/lib/python3.7/dist-packages (from packaging>=21.3->statsmodels>=0.13.2->pmdarima) (3.0.9)\n"
          ]
        }
      ]
    },
    {
      "cell_type": "code",
      "execution_count": 2,
      "id": "7cb12ac5",
      "metadata": {
        "id": "7cb12ac5",
        "colab": {
          "base_uri": "https://localhost:8080/"
        },
        "outputId": "f78ecdd8-a42d-4a0b-b92d-bef0bab272ff"
      },
      "outputs": [
        {
          "output_type": "stream",
          "name": "stderr",
          "text": [
            "[nltk_data] Downloading package vader_lexicon to /root/nltk_data...\n",
            "[nltk_data]   Package vader_lexicon is already up-to-date!\n"
          ]
        }
      ],
      "source": [
        "import numpy as np\n",
        "import pandas as pd\n",
        "from datetime import datetime\n",
        "import re\n",
        "import nltk\n",
        "from sklearn.feature_extraction import text\n",
        "from textblob import TextBlob\n",
        "from nltk.sentiment.vader import SentimentIntensityAnalyzer\n",
        "nltk.download('vader_lexicon')\n",
        "import matplotlib.pyplot as plt\n",
        "from statsmodels.tsa.stattools import adfuller\n",
        "from sklearn.preprocessing import StandardScaler\n",
        "from sklearn.model_selection import train_test_split\n",
        "from sklearn.linear_model import LinearRegression\n",
        "from sklearn.tree import DecisionTreeRegressor\n",
        "from sklearn.svm import SVR\n",
        "from sklearn.metrics import mean_absolute_error\n",
        "from sklearn.metrics import mean_squared_error\n",
        "from pmdarima import auto_arima"
      ]
    },
    {
      "cell_type": "markdown",
      "source": [
        "## Part1: Sentimental Analysis on Textual Data"
      ],
      "metadata": {
        "id": "wQPL0S-j-mRc"
      },
      "id": "wQPL0S-j-mRc"
    },
    {
      "cell_type": "markdown",
      "id": "d10db90d",
      "metadata": {
        "id": "d10db90d"
      },
      "source": [
        "## Read Textual Data"
      ]
    },
    {
      "cell_type": "code",
      "source": [
        "from google.colab import drive\n",
        "drive.mount('/content/drive')"
      ],
      "metadata": {
        "colab": {
          "base_uri": "https://localhost:8080/"
        },
        "id": "UyEbLL0P2dDM",
        "outputId": "0bee8719-4c5c-4d6a-ab1b-14fdc322dfb4"
      },
      "id": "UyEbLL0P2dDM",
      "execution_count": 3,
      "outputs": [
        {
          "output_type": "stream",
          "name": "stdout",
          "text": [
            "Drive already mounted at /content/drive; to attempt to forcibly remount, call drive.mount(\"/content/drive\", force_remount=True).\n"
          ]
        }
      ]
    },
    {
      "cell_type": "code",
      "execution_count": 4,
      "id": "fd8ca257",
      "metadata": {
        "id": "fd8ca257",
        "outputId": "5af121da-83ab-4efe-c6ee-f3193cf94889",
        "colab": {
          "base_uri": "https://localhost:8080/"
        }
      },
      "outputs": [
        {
          "output_type": "execute_result",
          "data": {
            "text/plain": [
              "(3650970, 3)"
            ]
          },
          "metadata": {},
          "execution_count": 4
        }
      ],
      "source": [
        "indian_news = pd.read_csv('drive/MyDrive/india-news-headlines.csv')\n",
        "# shape of the data\n",
        "indian_news.shape"
      ]
    },
    {
      "cell_type": "markdown",
      "source": [
        "## Explore the Textual Data"
      ],
      "metadata": {
        "id": "fvlX814ugMQK"
      },
      "id": "fvlX814ugMQK"
    },
    {
      "cell_type": "code",
      "execution_count": 5,
      "id": "697b124a",
      "metadata": {
        "id": "697b124a",
        "colab": {
          "base_uri": "https://localhost:8080/",
          "height": 520
        },
        "outputId": "90ffdd19-fc5a-404b-9a1c-fe7f662807d3"
      },
      "outputs": [
        {
          "output_type": "execute_result",
          "data": {
            "text/plain": [
              "    publish_date  ...                                      headline_text\n",
              "0       20010102  ...  Status quo will not be disturbed at Ayodhya; s...\n",
              "1       20010102  ...                Fissures in Hurriyat over Pak visit\n",
              "2       20010102  ...              America's unwanted heading for India?\n",
              "3       20010102  ...                 For bigwigs; it is destination Goa\n",
              "4       20010102  ...               Extra buses to clear tourist traffic\n",
              "5       20010102  ...        Dilute the power of transfers; says Riberio\n",
              "6       20010102  ...                  Focus shifts to teaching of Hindi\n",
              "7       20010102  ...               IT will become compulsory in schools\n",
              "8       20010102  ...      Move to stop freedom fighters' pension flayed\n",
              "9       20010102  ...  Gilani claims he applied for passport 2 years ago\n",
              "10      20010102  ...                     Parivar dismisses PM's warning\n",
              "11      20010102  ...              India; Pak exchange lists of N-plants\n",
              "12      20010102  ...        Will Qureshi's return really help the govt?\n",
              "13      20010102  ...         PM's tacit message: Put Ram tample on hold\n",
              "14      20010102  ...               Text of the Prime Minister's article\n",
              "\n",
              "[15 rows x 3 columns]"
            ],
            "text/html": [
              "\n",
              "  <div id=\"df-a4ffa7a8-32d6-4046-bcc3-b58b0178b9a9\">\n",
              "    <div class=\"colab-df-container\">\n",
              "      <div>\n",
              "<style scoped>\n",
              "    .dataframe tbody tr th:only-of-type {\n",
              "        vertical-align: middle;\n",
              "    }\n",
              "\n",
              "    .dataframe tbody tr th {\n",
              "        vertical-align: top;\n",
              "    }\n",
              "\n",
              "    .dataframe thead th {\n",
              "        text-align: right;\n",
              "    }\n",
              "</style>\n",
              "<table border=\"1\" class=\"dataframe\">\n",
              "  <thead>\n",
              "    <tr style=\"text-align: right;\">\n",
              "      <th></th>\n",
              "      <th>publish_date</th>\n",
              "      <th>headline_category</th>\n",
              "      <th>headline_text</th>\n",
              "    </tr>\n",
              "  </thead>\n",
              "  <tbody>\n",
              "    <tr>\n",
              "      <th>0</th>\n",
              "      <td>20010102</td>\n",
              "      <td>unknown</td>\n",
              "      <td>Status quo will not be disturbed at Ayodhya; s...</td>\n",
              "    </tr>\n",
              "    <tr>\n",
              "      <th>1</th>\n",
              "      <td>20010102</td>\n",
              "      <td>unknown</td>\n",
              "      <td>Fissures in Hurriyat over Pak visit</td>\n",
              "    </tr>\n",
              "    <tr>\n",
              "      <th>2</th>\n",
              "      <td>20010102</td>\n",
              "      <td>unknown</td>\n",
              "      <td>America's unwanted heading for India?</td>\n",
              "    </tr>\n",
              "    <tr>\n",
              "      <th>3</th>\n",
              "      <td>20010102</td>\n",
              "      <td>unknown</td>\n",
              "      <td>For bigwigs; it is destination Goa</td>\n",
              "    </tr>\n",
              "    <tr>\n",
              "      <th>4</th>\n",
              "      <td>20010102</td>\n",
              "      <td>unknown</td>\n",
              "      <td>Extra buses to clear tourist traffic</td>\n",
              "    </tr>\n",
              "    <tr>\n",
              "      <th>5</th>\n",
              "      <td>20010102</td>\n",
              "      <td>unknown</td>\n",
              "      <td>Dilute the power of transfers; says Riberio</td>\n",
              "    </tr>\n",
              "    <tr>\n",
              "      <th>6</th>\n",
              "      <td>20010102</td>\n",
              "      <td>unknown</td>\n",
              "      <td>Focus shifts to teaching of Hindi</td>\n",
              "    </tr>\n",
              "    <tr>\n",
              "      <th>7</th>\n",
              "      <td>20010102</td>\n",
              "      <td>unknown</td>\n",
              "      <td>IT will become compulsory in schools</td>\n",
              "    </tr>\n",
              "    <tr>\n",
              "      <th>8</th>\n",
              "      <td>20010102</td>\n",
              "      <td>unknown</td>\n",
              "      <td>Move to stop freedom fighters' pension flayed</td>\n",
              "    </tr>\n",
              "    <tr>\n",
              "      <th>9</th>\n",
              "      <td>20010102</td>\n",
              "      <td>unknown</td>\n",
              "      <td>Gilani claims he applied for passport 2 years ago</td>\n",
              "    </tr>\n",
              "    <tr>\n",
              "      <th>10</th>\n",
              "      <td>20010102</td>\n",
              "      <td>unknown</td>\n",
              "      <td>Parivar dismisses PM's warning</td>\n",
              "    </tr>\n",
              "    <tr>\n",
              "      <th>11</th>\n",
              "      <td>20010102</td>\n",
              "      <td>unknown</td>\n",
              "      <td>India; Pak exchange lists of N-plants</td>\n",
              "    </tr>\n",
              "    <tr>\n",
              "      <th>12</th>\n",
              "      <td>20010102</td>\n",
              "      <td>unknown</td>\n",
              "      <td>Will Qureshi's return really help the govt?</td>\n",
              "    </tr>\n",
              "    <tr>\n",
              "      <th>13</th>\n",
              "      <td>20010102</td>\n",
              "      <td>unknown</td>\n",
              "      <td>PM's tacit message: Put Ram tample on hold</td>\n",
              "    </tr>\n",
              "    <tr>\n",
              "      <th>14</th>\n",
              "      <td>20010102</td>\n",
              "      <td>unknown</td>\n",
              "      <td>Text of the Prime Minister's article</td>\n",
              "    </tr>\n",
              "  </tbody>\n",
              "</table>\n",
              "</div>\n",
              "      <button class=\"colab-df-convert\" onclick=\"convertToInteractive('df-a4ffa7a8-32d6-4046-bcc3-b58b0178b9a9')\"\n",
              "              title=\"Convert this dataframe to an interactive table.\"\n",
              "              style=\"display:none;\">\n",
              "        \n",
              "  <svg xmlns=\"http://www.w3.org/2000/svg\" height=\"24px\"viewBox=\"0 0 24 24\"\n",
              "       width=\"24px\">\n",
              "    <path d=\"M0 0h24v24H0V0z\" fill=\"none\"/>\n",
              "    <path d=\"M18.56 5.44l.94 2.06.94-2.06 2.06-.94-2.06-.94-.94-2.06-.94 2.06-2.06.94zm-11 1L8.5 8.5l.94-2.06 2.06-.94-2.06-.94L8.5 2.5l-.94 2.06-2.06.94zm10 10l.94 2.06.94-2.06 2.06-.94-2.06-.94-.94-2.06-.94 2.06-2.06.94z\"/><path d=\"M17.41 7.96l-1.37-1.37c-.4-.4-.92-.59-1.43-.59-.52 0-1.04.2-1.43.59L10.3 9.45l-7.72 7.72c-.78.78-.78 2.05 0 2.83L4 21.41c.39.39.9.59 1.41.59.51 0 1.02-.2 1.41-.59l7.78-7.78 2.81-2.81c.8-.78.8-2.07 0-2.86zM5.41 20L4 18.59l7.72-7.72 1.47 1.35L5.41 20z\"/>\n",
              "  </svg>\n",
              "      </button>\n",
              "      \n",
              "  <style>\n",
              "    .colab-df-container {\n",
              "      display:flex;\n",
              "      flex-wrap:wrap;\n",
              "      gap: 12px;\n",
              "    }\n",
              "\n",
              "    .colab-df-convert {\n",
              "      background-color: #E8F0FE;\n",
              "      border: none;\n",
              "      border-radius: 50%;\n",
              "      cursor: pointer;\n",
              "      display: none;\n",
              "      fill: #1967D2;\n",
              "      height: 32px;\n",
              "      padding: 0 0 0 0;\n",
              "      width: 32px;\n",
              "    }\n",
              "\n",
              "    .colab-df-convert:hover {\n",
              "      background-color: #E2EBFA;\n",
              "      box-shadow: 0px 1px 2px rgba(60, 64, 67, 0.3), 0px 1px 3px 1px rgba(60, 64, 67, 0.15);\n",
              "      fill: #174EA6;\n",
              "    }\n",
              "\n",
              "    [theme=dark] .colab-df-convert {\n",
              "      background-color: #3B4455;\n",
              "      fill: #D2E3FC;\n",
              "    }\n",
              "\n",
              "    [theme=dark] .colab-df-convert:hover {\n",
              "      background-color: #434B5C;\n",
              "      box-shadow: 0px 1px 3px 1px rgba(0, 0, 0, 0.15);\n",
              "      filter: drop-shadow(0px 1px 2px rgba(0, 0, 0, 0.3));\n",
              "      fill: #FFFFFF;\n",
              "    }\n",
              "  </style>\n",
              "\n",
              "      <script>\n",
              "        const buttonEl =\n",
              "          document.querySelector('#df-a4ffa7a8-32d6-4046-bcc3-b58b0178b9a9 button.colab-df-convert');\n",
              "        buttonEl.style.display =\n",
              "          google.colab.kernel.accessAllowed ? 'block' : 'none';\n",
              "\n",
              "        async function convertToInteractive(key) {\n",
              "          const element = document.querySelector('#df-a4ffa7a8-32d6-4046-bcc3-b58b0178b9a9');\n",
              "          const dataTable =\n",
              "            await google.colab.kernel.invokeFunction('convertToInteractive',\n",
              "                                                     [key], {});\n",
              "          if (!dataTable) return;\n",
              "\n",
              "          const docLinkHtml = 'Like what you see? Visit the ' +\n",
              "            '<a target=\"_blank\" href=https://colab.research.google.com/notebooks/data_table.ipynb>data table notebook</a>'\n",
              "            + ' to learn more about interactive tables.';\n",
              "          element.innerHTML = '';\n",
              "          dataTable['output_type'] = 'display_data';\n",
              "          await google.colab.output.renderOutput(dataTable, element);\n",
              "          const docLink = document.createElement('div');\n",
              "          docLink.innerHTML = docLinkHtml;\n",
              "          element.appendChild(docLink);\n",
              "        }\n",
              "      </script>\n",
              "    </div>\n",
              "  </div>\n",
              "  "
            ]
          },
          "metadata": {},
          "execution_count": 5
        }
      ],
      "source": [
        "indian_news.head(15)"
      ]
    },
    {
      "cell_type": "code",
      "source": [
        "indian_news.info()"
      ],
      "metadata": {
        "id": "5uoVZwdGRyuf",
        "colab": {
          "base_uri": "https://localhost:8080/"
        },
        "outputId": "91c487e3-2963-4c5a-b5c6-cd544d27aa7e"
      },
      "id": "5uoVZwdGRyuf",
      "execution_count": 6,
      "outputs": [
        {
          "output_type": "stream",
          "name": "stdout",
          "text": [
            "<class 'pandas.core.frame.DataFrame'>\n",
            "RangeIndex: 3650970 entries, 0 to 3650969\n",
            "Data columns (total 3 columns):\n",
            " #   Column             Dtype \n",
            "---  ------             ----- \n",
            " 0   publish_date       int64 \n",
            " 1   headline_category  object\n",
            " 2   headline_text      object\n",
            "dtypes: int64(1), object(2)\n",
            "memory usage: 83.6+ MB\n"
          ]
        }
      ]
    },
    {
      "cell_type": "markdown",
      "source": [
        "## Preprocessing for the Indian News Headlines Data"
      ],
      "metadata": {
        "id": "xnudo-WFAWeD"
      },
      "id": "xnudo-WFAWeD"
    },
    {
      "cell_type": "code",
      "source": [
        "# Delete unnecessary column\n",
        "indian_news.drop(columns=['headline_category'],inplace=True)"
      ],
      "metadata": {
        "id": "kCbqh6xagBW6"
      },
      "id": "kCbqh6xagBW6",
      "execution_count": 7,
      "outputs": []
    },
    {
      "cell_type": "code",
      "source": [
        "# convert the publish_data column to datetime datatype\n",
        "indian_news['publish_date'] = indian_news['publish_date'].map(lambda x : str(x))\n",
        "indian_news['publish_date'] = indian_news['publish_date'].map(lambda x : datetime.strptime(x,'%Y%m%d'))"
      ],
      "metadata": {
        "id": "H_AIczSJ-RM1"
      },
      "id": "H_AIczSJ-RM1",
      "execution_count": 8,
      "outputs": []
    },
    {
      "cell_type": "code",
      "source": [
        "# grouping headlines of each day\n",
        "indian_news['headline_text'] = indian_news.groupby(['publish_date']).transform(lambda x : ' '.join(x))\n",
        "# drop duplicates in each row\n",
        "indian_news.drop_duplicates(inplace=True)\n",
        "# reset index\n",
        "indian_news.reset_index(inplace=True,drop=True)"
      ],
      "metadata": {
        "id": "vQvB_-HrKKJC"
      },
      "id": "vQvB_-HrKKJC",
      "execution_count": 9,
      "outputs": []
    },
    {
      "cell_type": "code",
      "source": [
        "# convert headline text to lowercase\n",
        "indian_news['headline_text'] = indian_news['headline_text'].map(lambda x : x.lower())\n",
        "# remove all special characters \n",
        "indian_news['headline_text'] = indian_news['headline_text'].map(lambda x : re.sub(\"[^a-zA-Z']\",' ',x))\n",
        "# load english stopwords\n",
        "stopwords = text.ENGLISH_STOP_WORDS\n",
        "# remove english stopwords\n",
        "indian_news['headline_text'] = indian_news['headline_text'].map(lambda x : [word for word in x.split() if word not in stopwords])\n",
        "# convert the output list above into a string\n",
        "indian_news['headline_text'] = indian_news['headline_text'].map(lambda x : \" \".join(x))"
      ],
      "metadata": {
        "id": "-G-BrsTzCK1U"
      },
      "id": "-G-BrsTzCK1U",
      "execution_count": 10,
      "outputs": []
    },
    {
      "cell_type": "code",
      "source": [
        "# explore the textual data after preprocessing\n",
        "indian_news.head(15)"
      ],
      "metadata": {
        "colab": {
          "base_uri": "https://localhost:8080/",
          "height": 520
        },
        "id": "ScUZPv3k45KK",
        "outputId": "88f366f1-e5bb-4a7a-f0eb-c9a4df49e2d8"
      },
      "id": "ScUZPv3k45KK",
      "execution_count": 11,
      "outputs": [
        {
          "output_type": "execute_result",
          "data": {
            "text/plain": [
              "   publish_date                                      headline_text\n",
              "0    2001-01-02  status quo disturbed ayodhya says vajpayee fis...\n",
              "1    2001-01-03  powerless north india gropes dark think laxman...\n",
              "2    2001-01-04  string pulled stephen hawking india vajpayee g...\n",
              "3    2001-01-05  light combat craft takes india club class hawk...\n",
              "4    2001-01-06  light combat craft takes india club class hawk...\n",
              "5    2001-01-07  muslim body rules talks ayodhya bajrang dal bl...\n",
              "6    2001-01-08  sangh parivar babri panel ante frontrunner key...\n",
              "7    2001-01-09  financier bharat shah held alleged links chott...\n",
              "8    2001-01-10  fend pande tells doctors bureaucracy undermini...\n",
              "9    2001-01-23  sonia takes hindutva brigade congress hopes so...\n",
              "10   2001-01-24  govt extends j k ceasefire month peace hinges ...\n",
              "11   2001-01-25  big bath passes hitch security bandobast got a...\n",
              "12   2001-01-26  president pitch indirect polls trai orders ref...\n",
              "13   2001-01-27  monster quake kills forces rescue centre promi...\n",
              "14   2001-01-28  death distress destruction it's town bhuj mass..."
            ],
            "text/html": [
              "\n",
              "  <div id=\"df-de25f876-4435-4812-a6d2-2ef7129630dd\">\n",
              "    <div class=\"colab-df-container\">\n",
              "      <div>\n",
              "<style scoped>\n",
              "    .dataframe tbody tr th:only-of-type {\n",
              "        vertical-align: middle;\n",
              "    }\n",
              "\n",
              "    .dataframe tbody tr th {\n",
              "        vertical-align: top;\n",
              "    }\n",
              "\n",
              "    .dataframe thead th {\n",
              "        text-align: right;\n",
              "    }\n",
              "</style>\n",
              "<table border=\"1\" class=\"dataframe\">\n",
              "  <thead>\n",
              "    <tr style=\"text-align: right;\">\n",
              "      <th></th>\n",
              "      <th>publish_date</th>\n",
              "      <th>headline_text</th>\n",
              "    </tr>\n",
              "  </thead>\n",
              "  <tbody>\n",
              "    <tr>\n",
              "      <th>0</th>\n",
              "      <td>2001-01-02</td>\n",
              "      <td>status quo disturbed ayodhya says vajpayee fis...</td>\n",
              "    </tr>\n",
              "    <tr>\n",
              "      <th>1</th>\n",
              "      <td>2001-01-03</td>\n",
              "      <td>powerless north india gropes dark think laxman...</td>\n",
              "    </tr>\n",
              "    <tr>\n",
              "      <th>2</th>\n",
              "      <td>2001-01-04</td>\n",
              "      <td>string pulled stephen hawking india vajpayee g...</td>\n",
              "    </tr>\n",
              "    <tr>\n",
              "      <th>3</th>\n",
              "      <td>2001-01-05</td>\n",
              "      <td>light combat craft takes india club class hawk...</td>\n",
              "    </tr>\n",
              "    <tr>\n",
              "      <th>4</th>\n",
              "      <td>2001-01-06</td>\n",
              "      <td>light combat craft takes india club class hawk...</td>\n",
              "    </tr>\n",
              "    <tr>\n",
              "      <th>5</th>\n",
              "      <td>2001-01-07</td>\n",
              "      <td>muslim body rules talks ayodhya bajrang dal bl...</td>\n",
              "    </tr>\n",
              "    <tr>\n",
              "      <th>6</th>\n",
              "      <td>2001-01-08</td>\n",
              "      <td>sangh parivar babri panel ante frontrunner key...</td>\n",
              "    </tr>\n",
              "    <tr>\n",
              "      <th>7</th>\n",
              "      <td>2001-01-09</td>\n",
              "      <td>financier bharat shah held alleged links chott...</td>\n",
              "    </tr>\n",
              "    <tr>\n",
              "      <th>8</th>\n",
              "      <td>2001-01-10</td>\n",
              "      <td>fend pande tells doctors bureaucracy undermini...</td>\n",
              "    </tr>\n",
              "    <tr>\n",
              "      <th>9</th>\n",
              "      <td>2001-01-23</td>\n",
              "      <td>sonia takes hindutva brigade congress hopes so...</td>\n",
              "    </tr>\n",
              "    <tr>\n",
              "      <th>10</th>\n",
              "      <td>2001-01-24</td>\n",
              "      <td>govt extends j k ceasefire month peace hinges ...</td>\n",
              "    </tr>\n",
              "    <tr>\n",
              "      <th>11</th>\n",
              "      <td>2001-01-25</td>\n",
              "      <td>big bath passes hitch security bandobast got a...</td>\n",
              "    </tr>\n",
              "    <tr>\n",
              "      <th>12</th>\n",
              "      <td>2001-01-26</td>\n",
              "      <td>president pitch indirect polls trai orders ref...</td>\n",
              "    </tr>\n",
              "    <tr>\n",
              "      <th>13</th>\n",
              "      <td>2001-01-27</td>\n",
              "      <td>monster quake kills forces rescue centre promi...</td>\n",
              "    </tr>\n",
              "    <tr>\n",
              "      <th>14</th>\n",
              "      <td>2001-01-28</td>\n",
              "      <td>death distress destruction it's town bhuj mass...</td>\n",
              "    </tr>\n",
              "  </tbody>\n",
              "</table>\n",
              "</div>\n",
              "      <button class=\"colab-df-convert\" onclick=\"convertToInteractive('df-de25f876-4435-4812-a6d2-2ef7129630dd')\"\n",
              "              title=\"Convert this dataframe to an interactive table.\"\n",
              "              style=\"display:none;\">\n",
              "        \n",
              "  <svg xmlns=\"http://www.w3.org/2000/svg\" height=\"24px\"viewBox=\"0 0 24 24\"\n",
              "       width=\"24px\">\n",
              "    <path d=\"M0 0h24v24H0V0z\" fill=\"none\"/>\n",
              "    <path d=\"M18.56 5.44l.94 2.06.94-2.06 2.06-.94-2.06-.94-.94-2.06-.94 2.06-2.06.94zm-11 1L8.5 8.5l.94-2.06 2.06-.94-2.06-.94L8.5 2.5l-.94 2.06-2.06.94zm10 10l.94 2.06.94-2.06 2.06-.94-2.06-.94-.94-2.06-.94 2.06-2.06.94z\"/><path d=\"M17.41 7.96l-1.37-1.37c-.4-.4-.92-.59-1.43-.59-.52 0-1.04.2-1.43.59L10.3 9.45l-7.72 7.72c-.78.78-.78 2.05 0 2.83L4 21.41c.39.39.9.59 1.41.59.51 0 1.02-.2 1.41-.59l7.78-7.78 2.81-2.81c.8-.78.8-2.07 0-2.86zM5.41 20L4 18.59l7.72-7.72 1.47 1.35L5.41 20z\"/>\n",
              "  </svg>\n",
              "      </button>\n",
              "      \n",
              "  <style>\n",
              "    .colab-df-container {\n",
              "      display:flex;\n",
              "      flex-wrap:wrap;\n",
              "      gap: 12px;\n",
              "    }\n",
              "\n",
              "    .colab-df-convert {\n",
              "      background-color: #E8F0FE;\n",
              "      border: none;\n",
              "      border-radius: 50%;\n",
              "      cursor: pointer;\n",
              "      display: none;\n",
              "      fill: #1967D2;\n",
              "      height: 32px;\n",
              "      padding: 0 0 0 0;\n",
              "      width: 32px;\n",
              "    }\n",
              "\n",
              "    .colab-df-convert:hover {\n",
              "      background-color: #E2EBFA;\n",
              "      box-shadow: 0px 1px 2px rgba(60, 64, 67, 0.3), 0px 1px 3px 1px rgba(60, 64, 67, 0.15);\n",
              "      fill: #174EA6;\n",
              "    }\n",
              "\n",
              "    [theme=dark] .colab-df-convert {\n",
              "      background-color: #3B4455;\n",
              "      fill: #D2E3FC;\n",
              "    }\n",
              "\n",
              "    [theme=dark] .colab-df-convert:hover {\n",
              "      background-color: #434B5C;\n",
              "      box-shadow: 0px 1px 3px 1px rgba(0, 0, 0, 0.15);\n",
              "      filter: drop-shadow(0px 1px 2px rgba(0, 0, 0, 0.3));\n",
              "      fill: #FFFFFF;\n",
              "    }\n",
              "  </style>\n",
              "\n",
              "      <script>\n",
              "        const buttonEl =\n",
              "          document.querySelector('#df-de25f876-4435-4812-a6d2-2ef7129630dd button.colab-df-convert');\n",
              "        buttonEl.style.display =\n",
              "          google.colab.kernel.accessAllowed ? 'block' : 'none';\n",
              "\n",
              "        async function convertToInteractive(key) {\n",
              "          const element = document.querySelector('#df-de25f876-4435-4812-a6d2-2ef7129630dd');\n",
              "          const dataTable =\n",
              "            await google.colab.kernel.invokeFunction('convertToInteractive',\n",
              "                                                     [key], {});\n",
              "          if (!dataTable) return;\n",
              "\n",
              "          const docLinkHtml = 'Like what you see? Visit the ' +\n",
              "            '<a target=\"_blank\" href=https://colab.research.google.com/notebooks/data_table.ipynb>data table notebook</a>'\n",
              "            + ' to learn more about interactive tables.';\n",
              "          element.innerHTML = '';\n",
              "          dataTable['output_type'] = 'display_data';\n",
              "          await google.colab.output.renderOutput(dataTable, element);\n",
              "          const docLink = document.createElement('div');\n",
              "          docLink.innerHTML = docLinkHtml;\n",
              "          element.appendChild(docLink);\n",
              "        }\n",
              "      </script>\n",
              "    </div>\n",
              "  </div>\n",
              "  "
            ]
          },
          "metadata": {},
          "execution_count": 11
        }
      ]
    },
    {
      "cell_type": "code",
      "source": [
        "print('Shape of Data after Preprocessing is:',indian_news.shape)"
      ],
      "metadata": {
        "colab": {
          "base_uri": "https://localhost:8080/"
        },
        "id": "7cu9LYkVL1p6",
        "outputId": "2d7185f1-f687-49aa-c283-6ea833fb7c8e"
      },
      "id": "7cu9LYkVL1p6",
      "execution_count": 12,
      "outputs": [
        {
          "output_type": "stream",
          "name": "stdout",
          "text": [
            "Shape of Data after Preprocessing is: (7717, 2)\n"
          ]
        }
      ]
    },
    {
      "cell_type": "markdown",
      "source": [
        "## Determine Headline Text's Polarirty and Subjectivity"
      ],
      "metadata": {
        "id": "ge2Pnrh4PKLY"
      },
      "id": "ge2Pnrh4PKLY"
    },
    {
      "cell_type": "code",
      "source": [
        "# polarity\n",
        "indian_news['polarity'] = indian_news['headline_text'].map(lambda x : TextBlob(x).sentiment.polarity)\n",
        "# subjectivity\n",
        "indian_news['subjectivity'] = indian_news['headline_text'].map(lambda x : TextBlob(x).sentiment.subjectivity)"
      ],
      "metadata": {
        "id": "uTfGiWVgL5Bt"
      },
      "id": "uTfGiWVgL5Bt",
      "execution_count": 13,
      "outputs": []
    },
    {
      "cell_type": "markdown",
      "source": [
        "## Apply Sentiment Analysis on Headlines Text"
      ],
      "metadata": {
        "id": "-Odb1mbwSXAv"
      },
      "id": "-Odb1mbwSXAv"
    },
    {
      "cell_type": "code",
      "source": [
        "sentiment_analyzer = SentimentIntensityAnalyzer()\n",
        "# compound sentiment\n",
        "indian_news['compound'] = indian_news['headline_text'].map(lambda x : sentiment_analyzer.polarity_scores(x)['compound'])\n",
        "# positive sentiment\n",
        "indian_news['positive'] = indian_news['headline_text'].map(lambda x : sentiment_analyzer.polarity_scores(x)['pos'])\n",
        "# negative sentiment\n",
        "indian_news['negative'] = indian_news['headline_text'].map(lambda x : sentiment_analyzer.polarity_scores(x)['neg'])\n",
        "# neutral sentiment\n",
        "indian_news['neutral'] = indian_news['headline_text'].map(lambda x : sentiment_analyzer.polarity_scores(x)['neu'])"
      ],
      "metadata": {
        "id": "005Yr3P_Sbpq"
      },
      "id": "005Yr3P_Sbpq",
      "execution_count": 14,
      "outputs": []
    },
    {
      "cell_type": "code",
      "source": [
        "# explore the textual data after determining polarity and subjectivity and apply sentiment analysis\n",
        "indian_news"
      ],
      "metadata": {
        "colab": {
          "base_uri": "https://localhost:8080/",
          "height": 424
        },
        "id": "u-u5QtlKUfOl",
        "outputId": "f72e50f4-7b07-4153-f5ec-b52159d3c99c"
      },
      "id": "u-u5QtlKUfOl",
      "execution_count": 15,
      "outputs": [
        {
          "output_type": "execute_result",
          "data": {
            "text/plain": [
              "     publish_date  ... neutral\n",
              "0      2001-01-02  ...   0.726\n",
              "1      2001-01-03  ...   0.698\n",
              "2      2001-01-04  ...   0.739\n",
              "3      2001-01-05  ...   0.641\n",
              "4      2001-01-06  ...   0.655\n",
              "...           ...  ...     ...\n",
              "7712   2022-03-27  ...   0.745\n",
              "7713   2022-03-28  ...   0.740\n",
              "7714   2022-03-29  ...   0.758\n",
              "7715   2022-03-30  ...   0.749\n",
              "7716   2022-03-31  ...   0.771\n",
              "\n",
              "[7717 rows x 8 columns]"
            ],
            "text/html": [
              "\n",
              "  <div id=\"df-ac39e83e-e872-408f-8de8-fe7a71ba5651\">\n",
              "    <div class=\"colab-df-container\">\n",
              "      <div>\n",
              "<style scoped>\n",
              "    .dataframe tbody tr th:only-of-type {\n",
              "        vertical-align: middle;\n",
              "    }\n",
              "\n",
              "    .dataframe tbody tr th {\n",
              "        vertical-align: top;\n",
              "    }\n",
              "\n",
              "    .dataframe thead th {\n",
              "        text-align: right;\n",
              "    }\n",
              "</style>\n",
              "<table border=\"1\" class=\"dataframe\">\n",
              "  <thead>\n",
              "    <tr style=\"text-align: right;\">\n",
              "      <th></th>\n",
              "      <th>publish_date</th>\n",
              "      <th>headline_text</th>\n",
              "      <th>polarity</th>\n",
              "      <th>subjectivity</th>\n",
              "      <th>compound</th>\n",
              "      <th>positive</th>\n",
              "      <th>negative</th>\n",
              "      <th>neutral</th>\n",
              "    </tr>\n",
              "  </thead>\n",
              "  <tbody>\n",
              "    <tr>\n",
              "      <th>0</th>\n",
              "      <td>2001-01-02</td>\n",
              "      <td>status quo disturbed ayodhya says vajpayee fis...</td>\n",
              "      <td>0.130159</td>\n",
              "      <td>0.259921</td>\n",
              "      <td>-0.9662</td>\n",
              "      <td>0.105</td>\n",
              "      <td>0.170</td>\n",
              "      <td>0.726</td>\n",
              "    </tr>\n",
              "    <tr>\n",
              "      <th>1</th>\n",
              "      <td>2001-01-03</td>\n",
              "      <td>powerless north india gropes dark think laxman...</td>\n",
              "      <td>0.111538</td>\n",
              "      <td>0.415385</td>\n",
              "      <td>-0.1280</td>\n",
              "      <td>0.147</td>\n",
              "      <td>0.154</td>\n",
              "      <td>0.698</td>\n",
              "    </tr>\n",
              "    <tr>\n",
              "      <th>2</th>\n",
              "      <td>2001-01-04</td>\n",
              "      <td>string pulled stephen hawking india vajpayee g...</td>\n",
              "      <td>0.074312</td>\n",
              "      <td>0.431387</td>\n",
              "      <td>0.4019</td>\n",
              "      <td>0.129</td>\n",
              "      <td>0.132</td>\n",
              "      <td>0.739</td>\n",
              "    </tr>\n",
              "    <tr>\n",
              "      <th>3</th>\n",
              "      <td>2001-01-05</td>\n",
              "      <td>light combat craft takes india club class hawk...</td>\n",
              "      <td>0.258827</td>\n",
              "      <td>0.505995</td>\n",
              "      <td>0.8300</td>\n",
              "      <td>0.182</td>\n",
              "      <td>0.176</td>\n",
              "      <td>0.641</td>\n",
              "    </tr>\n",
              "    <tr>\n",
              "      <th>4</th>\n",
              "      <td>2001-01-06</td>\n",
              "      <td>light combat craft takes india club class hawk...</td>\n",
              "      <td>0.176623</td>\n",
              "      <td>0.422078</td>\n",
              "      <td>-0.8860</td>\n",
              "      <td>0.105</td>\n",
              "      <td>0.240</td>\n",
              "      <td>0.655</td>\n",
              "    </tr>\n",
              "    <tr>\n",
              "      <th>...</th>\n",
              "      <td>...</td>\n",
              "      <td>...</td>\n",
              "      <td>...</td>\n",
              "      <td>...</td>\n",
              "      <td>...</td>\n",
              "      <td>...</td>\n",
              "      <td>...</td>\n",
              "      <td>...</td>\n",
              "    </tr>\n",
              "    <tr>\n",
              "      <th>7712</th>\n",
              "      <td>2022-03-27</td>\n",
              "      <td>playing dead man body god meant sitting refrig...</td>\n",
              "      <td>0.023741</td>\n",
              "      <td>0.367097</td>\n",
              "      <td>-0.9998</td>\n",
              "      <td>0.090</td>\n",
              "      <td>0.165</td>\n",
              "      <td>0.745</td>\n",
              "    </tr>\n",
              "    <tr>\n",
              "      <th>7713</th>\n",
              "      <td>2022-03-28</td>\n",
              "      <td>fashion democratic demand stylists soars 'the ...</td>\n",
              "      <td>0.053706</td>\n",
              "      <td>0.387789</td>\n",
              "      <td>-0.9996</td>\n",
              "      <td>0.106</td>\n",
              "      <td>0.154</td>\n",
              "      <td>0.740</td>\n",
              "    </tr>\n",
              "    <tr>\n",
              "      <th>7714</th>\n",
              "      <td>2022-03-29</td>\n",
              "      <td>bobby deol like dad hope working age yashas su...</td>\n",
              "      <td>0.074313</td>\n",
              "      <td>0.404815</td>\n",
              "      <td>-0.9997</td>\n",
              "      <td>0.092</td>\n",
              "      <td>0.150</td>\n",
              "      <td>0.758</td>\n",
              "    </tr>\n",
              "    <tr>\n",
              "      <th>7715</th>\n",
              "      <td>2022-03-30</td>\n",
              "      <td>trends dossmode time gave boyfriend incredible...</td>\n",
              "      <td>0.020873</td>\n",
              "      <td>0.346238</td>\n",
              "      <td>-0.9998</td>\n",
              "      <td>0.089</td>\n",
              "      <td>0.161</td>\n",
              "      <td>0.749</td>\n",
              "    </tr>\n",
              "    <tr>\n",
              "      <th>7716</th>\n",
              "      <td>2022-03-31</td>\n",
              "      <td>shashank goes coastal karnataka moggina manasu...</td>\n",
              "      <td>0.024055</td>\n",
              "      <td>0.333790</td>\n",
              "      <td>-0.9998</td>\n",
              "      <td>0.079</td>\n",
              "      <td>0.150</td>\n",
              "      <td>0.771</td>\n",
              "    </tr>\n",
              "  </tbody>\n",
              "</table>\n",
              "<p>7717 rows × 8 columns</p>\n",
              "</div>\n",
              "      <button class=\"colab-df-convert\" onclick=\"convertToInteractive('df-ac39e83e-e872-408f-8de8-fe7a71ba5651')\"\n",
              "              title=\"Convert this dataframe to an interactive table.\"\n",
              "              style=\"display:none;\">\n",
              "        \n",
              "  <svg xmlns=\"http://www.w3.org/2000/svg\" height=\"24px\"viewBox=\"0 0 24 24\"\n",
              "       width=\"24px\">\n",
              "    <path d=\"M0 0h24v24H0V0z\" fill=\"none\"/>\n",
              "    <path d=\"M18.56 5.44l.94 2.06.94-2.06 2.06-.94-2.06-.94-.94-2.06-.94 2.06-2.06.94zm-11 1L8.5 8.5l.94-2.06 2.06-.94-2.06-.94L8.5 2.5l-.94 2.06-2.06.94zm10 10l.94 2.06.94-2.06 2.06-.94-2.06-.94-.94-2.06-.94 2.06-2.06.94z\"/><path d=\"M17.41 7.96l-1.37-1.37c-.4-.4-.92-.59-1.43-.59-.52 0-1.04.2-1.43.59L10.3 9.45l-7.72 7.72c-.78.78-.78 2.05 0 2.83L4 21.41c.39.39.9.59 1.41.59.51 0 1.02-.2 1.41-.59l7.78-7.78 2.81-2.81c.8-.78.8-2.07 0-2.86zM5.41 20L4 18.59l7.72-7.72 1.47 1.35L5.41 20z\"/>\n",
              "  </svg>\n",
              "      </button>\n",
              "      \n",
              "  <style>\n",
              "    .colab-df-container {\n",
              "      display:flex;\n",
              "      flex-wrap:wrap;\n",
              "      gap: 12px;\n",
              "    }\n",
              "\n",
              "    .colab-df-convert {\n",
              "      background-color: #E8F0FE;\n",
              "      border: none;\n",
              "      border-radius: 50%;\n",
              "      cursor: pointer;\n",
              "      display: none;\n",
              "      fill: #1967D2;\n",
              "      height: 32px;\n",
              "      padding: 0 0 0 0;\n",
              "      width: 32px;\n",
              "    }\n",
              "\n",
              "    .colab-df-convert:hover {\n",
              "      background-color: #E2EBFA;\n",
              "      box-shadow: 0px 1px 2px rgba(60, 64, 67, 0.3), 0px 1px 3px 1px rgba(60, 64, 67, 0.15);\n",
              "      fill: #174EA6;\n",
              "    }\n",
              "\n",
              "    [theme=dark] .colab-df-convert {\n",
              "      background-color: #3B4455;\n",
              "      fill: #D2E3FC;\n",
              "    }\n",
              "\n",
              "    [theme=dark] .colab-df-convert:hover {\n",
              "      background-color: #434B5C;\n",
              "      box-shadow: 0px 1px 3px 1px rgba(0, 0, 0, 0.15);\n",
              "      filter: drop-shadow(0px 1px 2px rgba(0, 0, 0, 0.3));\n",
              "      fill: #FFFFFF;\n",
              "    }\n",
              "  </style>\n",
              "\n",
              "      <script>\n",
              "        const buttonEl =\n",
              "          document.querySelector('#df-ac39e83e-e872-408f-8de8-fe7a71ba5651 button.colab-df-convert');\n",
              "        buttonEl.style.display =\n",
              "          google.colab.kernel.accessAllowed ? 'block' : 'none';\n",
              "\n",
              "        async function convertToInteractive(key) {\n",
              "          const element = document.querySelector('#df-ac39e83e-e872-408f-8de8-fe7a71ba5651');\n",
              "          const dataTable =\n",
              "            await google.colab.kernel.invokeFunction('convertToInteractive',\n",
              "                                                     [key], {});\n",
              "          if (!dataTable) return;\n",
              "\n",
              "          const docLinkHtml = 'Like what you see? Visit the ' +\n",
              "            '<a target=\"_blank\" href=https://colab.research.google.com/notebooks/data_table.ipynb>data table notebook</a>'\n",
              "            + ' to learn more about interactive tables.';\n",
              "          element.innerHTML = '';\n",
              "          dataTable['output_type'] = 'display_data';\n",
              "          await google.colab.output.renderOutput(dataTable, element);\n",
              "          const docLink = document.createElement('div');\n",
              "          docLink.innerHTML = docLinkHtml;\n",
              "          element.appendChild(docLink);\n",
              "        }\n",
              "      </script>\n",
              "    </div>\n",
              "  </div>\n",
              "  "
            ]
          },
          "metadata": {},
          "execution_count": 15
        }
      ]
    },
    {
      "cell_type": "markdown",
      "source": [
        "## Part2: Numerical Analysis of Historical Stock Prices"
      ],
      "metadata": {
        "id": "3zEN3y7BWagt"
      },
      "id": "3zEN3y7BWagt"
    },
    {
      "cell_type": "markdown",
      "source": [
        "## Read Numerical Data"
      ],
      "metadata": {
        "id": "5GfPDNTwXAdu"
      },
      "id": "5GfPDNTwXAdu"
    },
    {
      "cell_type": "code",
      "source": [
        "stock_prices = pd.read_csv('drive/MyDrive/^IXIC.csv')\n",
        "stock_prices.shape"
      ],
      "metadata": {
        "colab": {
          "base_uri": "https://localhost:8080/"
        },
        "id": "fBuxigpJUjUx",
        "outputId": "df37275a-72e6-45da-e31f-d7ff62f50a7f"
      },
      "id": "fBuxigpJUjUx",
      "execution_count": 16,
      "outputs": [
        {
          "output_type": "execute_result",
          "data": {
            "text/plain": [
              "(5345, 7)"
            ]
          },
          "metadata": {},
          "execution_count": 16
        }
      ]
    },
    {
      "cell_type": "code",
      "source": [
        "stock_prices.head(15)"
      ],
      "metadata": {
        "colab": {
          "base_uri": "https://localhost:8080/",
          "height": 520
        },
        "id": "qY5Wymt7lHqP",
        "outputId": "1fa408a3-e090-414e-ab01-4fc590e663f3"
      },
      "id": "qY5Wymt7lHqP",
      "execution_count": 17,
      "outputs": [
        {
          "output_type": "execute_result",
          "data": {
            "text/plain": [
              "          Date         Open         High  ...        Close    Adj Close      Volume\n",
              "0   02/01/2001  2474.159912  2474.159912  ...  2291.860107  2291.860107  1918930000\n",
              "1   03/01/2001  2254.560059  2618.030029  ...  2616.689941  2616.689941  3188000000\n",
              "2   04/01/2001  2593.959961  2644.800049  ...  2566.830078  2566.830078  2610680000\n",
              "3   05/01/2001  2573.110107  2574.620117  ...  2407.649902  2407.649902  2104670000\n",
              "4   08/01/2001  2388.719971  2397.060059  ...  2395.919922  2395.919922  1850590000\n",
              "5   09/01/2001  2424.689941  2474.159912  ...  2441.300049  2441.300049  1975130000\n",
              "6   10/01/2001  2392.709961  2525.280029  ...  2524.179932  2524.179932  2470350000\n",
              "7   11/01/2001  2495.590088  2661.929932  ...  2640.570068  2640.570068  2842640000\n",
              "8   12/01/2001  2639.560059  2699.870117  ...  2626.500000  2626.500000  2518850000\n",
              "9   16/01/2001  2631.489990  2638.219971  ...  2618.550049  2618.550049  2073940000\n",
              "10  17/01/2001  2710.530029  2756.629883  ...  2682.780029  2682.780029  2819190000\n",
              "11  18/01/2001  2696.739990  2769.979980  ...  2768.489990  2768.489990  2558710000\n",
              "12  19/01/2001  2838.360107  2841.250000  ...  2770.379883  2770.379883  2697190000\n",
              "13  22/01/2001  2759.100098  2789.629883  ...  2757.909912  2757.909912  2037140000\n",
              "14  23/01/2001  2759.260010  2845.389893  ...  2840.389893  2840.389893  2278470000\n",
              "\n",
              "[15 rows x 7 columns]"
            ],
            "text/html": [
              "\n",
              "  <div id=\"df-8c6b223a-0187-4782-91d2-88e9efe37a62\">\n",
              "    <div class=\"colab-df-container\">\n",
              "      <div>\n",
              "<style scoped>\n",
              "    .dataframe tbody tr th:only-of-type {\n",
              "        vertical-align: middle;\n",
              "    }\n",
              "\n",
              "    .dataframe tbody tr th {\n",
              "        vertical-align: top;\n",
              "    }\n",
              "\n",
              "    .dataframe thead th {\n",
              "        text-align: right;\n",
              "    }\n",
              "</style>\n",
              "<table border=\"1\" class=\"dataframe\">\n",
              "  <thead>\n",
              "    <tr style=\"text-align: right;\">\n",
              "      <th></th>\n",
              "      <th>Date</th>\n",
              "      <th>Open</th>\n",
              "      <th>High</th>\n",
              "      <th>Low</th>\n",
              "      <th>Close</th>\n",
              "      <th>Adj Close</th>\n",
              "      <th>Volume</th>\n",
              "    </tr>\n",
              "  </thead>\n",
              "  <tbody>\n",
              "    <tr>\n",
              "      <th>0</th>\n",
              "      <td>02/01/2001</td>\n",
              "      <td>2474.159912</td>\n",
              "      <td>2474.159912</td>\n",
              "      <td>2273.070068</td>\n",
              "      <td>2291.860107</td>\n",
              "      <td>2291.860107</td>\n",
              "      <td>1918930000</td>\n",
              "    </tr>\n",
              "    <tr>\n",
              "      <th>1</th>\n",
              "      <td>03/01/2001</td>\n",
              "      <td>2254.560059</td>\n",
              "      <td>2618.030029</td>\n",
              "      <td>2251.709961</td>\n",
              "      <td>2616.689941</td>\n",
              "      <td>2616.689941</td>\n",
              "      <td>3188000000</td>\n",
              "    </tr>\n",
              "    <tr>\n",
              "      <th>2</th>\n",
              "      <td>04/01/2001</td>\n",
              "      <td>2593.959961</td>\n",
              "      <td>2644.800049</td>\n",
              "      <td>2549.830078</td>\n",
              "      <td>2566.830078</td>\n",
              "      <td>2566.830078</td>\n",
              "      <td>2610680000</td>\n",
              "    </tr>\n",
              "    <tr>\n",
              "      <th>3</th>\n",
              "      <td>05/01/2001</td>\n",
              "      <td>2573.110107</td>\n",
              "      <td>2574.620117</td>\n",
              "      <td>2395.389893</td>\n",
              "      <td>2407.649902</td>\n",
              "      <td>2407.649902</td>\n",
              "      <td>2104670000</td>\n",
              "    </tr>\n",
              "    <tr>\n",
              "      <th>4</th>\n",
              "      <td>08/01/2001</td>\n",
              "      <td>2388.719971</td>\n",
              "      <td>2397.060059</td>\n",
              "      <td>2299.649902</td>\n",
              "      <td>2395.919922</td>\n",
              "      <td>2395.919922</td>\n",
              "      <td>1850590000</td>\n",
              "    </tr>\n",
              "    <tr>\n",
              "      <th>5</th>\n",
              "      <td>09/01/2001</td>\n",
              "      <td>2424.689941</td>\n",
              "      <td>2474.159912</td>\n",
              "      <td>2406.080078</td>\n",
              "      <td>2441.300049</td>\n",
              "      <td>2441.300049</td>\n",
              "      <td>1975130000</td>\n",
              "    </tr>\n",
              "    <tr>\n",
              "      <th>6</th>\n",
              "      <td>10/01/2001</td>\n",
              "      <td>2392.709961</td>\n",
              "      <td>2525.280029</td>\n",
              "      <td>2376.489990</td>\n",
              "      <td>2524.179932</td>\n",
              "      <td>2524.179932</td>\n",
              "      <td>2470350000</td>\n",
              "    </tr>\n",
              "    <tr>\n",
              "      <th>7</th>\n",
              "      <td>11/01/2001</td>\n",
              "      <td>2495.590088</td>\n",
              "      <td>2661.929932</td>\n",
              "      <td>2495.010010</td>\n",
              "      <td>2640.570068</td>\n",
              "      <td>2640.570068</td>\n",
              "      <td>2842640000</td>\n",
              "    </tr>\n",
              "    <tr>\n",
              "      <th>8</th>\n",
              "      <td>12/01/2001</td>\n",
              "      <td>2639.560059</td>\n",
              "      <td>2699.870117</td>\n",
              "      <td>2589.629883</td>\n",
              "      <td>2626.500000</td>\n",
              "      <td>2626.500000</td>\n",
              "      <td>2518850000</td>\n",
              "    </tr>\n",
              "    <tr>\n",
              "      <th>9</th>\n",
              "      <td>16/01/2001</td>\n",
              "      <td>2631.489990</td>\n",
              "      <td>2638.219971</td>\n",
              "      <td>2576.949951</td>\n",
              "      <td>2618.550049</td>\n",
              "      <td>2618.550049</td>\n",
              "      <td>2073940000</td>\n",
              "    </tr>\n",
              "    <tr>\n",
              "      <th>10</th>\n",
              "      <td>17/01/2001</td>\n",
              "      <td>2710.530029</td>\n",
              "      <td>2756.629883</td>\n",
              "      <td>2668.479980</td>\n",
              "      <td>2682.780029</td>\n",
              "      <td>2682.780029</td>\n",
              "      <td>2819190000</td>\n",
              "    </tr>\n",
              "    <tr>\n",
              "      <th>11</th>\n",
              "      <td>18/01/2001</td>\n",
              "      <td>2696.739990</td>\n",
              "      <td>2769.979980</td>\n",
              "      <td>2661.260010</td>\n",
              "      <td>2768.489990</td>\n",
              "      <td>2768.489990</td>\n",
              "      <td>2558710000</td>\n",
              "    </tr>\n",
              "    <tr>\n",
              "      <th>12</th>\n",
              "      <td>19/01/2001</td>\n",
              "      <td>2838.360107</td>\n",
              "      <td>2841.250000</td>\n",
              "      <td>2752.060059</td>\n",
              "      <td>2770.379883</td>\n",
              "      <td>2770.379883</td>\n",
              "      <td>2697190000</td>\n",
              "    </tr>\n",
              "    <tr>\n",
              "      <th>13</th>\n",
              "      <td>22/01/2001</td>\n",
              "      <td>2759.100098</td>\n",
              "      <td>2789.629883</td>\n",
              "      <td>2722.959961</td>\n",
              "      <td>2757.909912</td>\n",
              "      <td>2757.909912</td>\n",
              "      <td>2037140000</td>\n",
              "    </tr>\n",
              "    <tr>\n",
              "      <th>14</th>\n",
              "      <td>23/01/2001</td>\n",
              "      <td>2759.260010</td>\n",
              "      <td>2845.389893</td>\n",
              "      <td>2736.280029</td>\n",
              "      <td>2840.389893</td>\n",
              "      <td>2840.389893</td>\n",
              "      <td>2278470000</td>\n",
              "    </tr>\n",
              "  </tbody>\n",
              "</table>\n",
              "</div>\n",
              "      <button class=\"colab-df-convert\" onclick=\"convertToInteractive('df-8c6b223a-0187-4782-91d2-88e9efe37a62')\"\n",
              "              title=\"Convert this dataframe to an interactive table.\"\n",
              "              style=\"display:none;\">\n",
              "        \n",
              "  <svg xmlns=\"http://www.w3.org/2000/svg\" height=\"24px\"viewBox=\"0 0 24 24\"\n",
              "       width=\"24px\">\n",
              "    <path d=\"M0 0h24v24H0V0z\" fill=\"none\"/>\n",
              "    <path d=\"M18.56 5.44l.94 2.06.94-2.06 2.06-.94-2.06-.94-.94-2.06-.94 2.06-2.06.94zm-11 1L8.5 8.5l.94-2.06 2.06-.94-2.06-.94L8.5 2.5l-.94 2.06-2.06.94zm10 10l.94 2.06.94-2.06 2.06-.94-2.06-.94-.94-2.06-.94 2.06-2.06.94z\"/><path d=\"M17.41 7.96l-1.37-1.37c-.4-.4-.92-.59-1.43-.59-.52 0-1.04.2-1.43.59L10.3 9.45l-7.72 7.72c-.78.78-.78 2.05 0 2.83L4 21.41c.39.39.9.59 1.41.59.51 0 1.02-.2 1.41-.59l7.78-7.78 2.81-2.81c.8-.78.8-2.07 0-2.86zM5.41 20L4 18.59l7.72-7.72 1.47 1.35L5.41 20z\"/>\n",
              "  </svg>\n",
              "      </button>\n",
              "      \n",
              "  <style>\n",
              "    .colab-df-container {\n",
              "      display:flex;\n",
              "      flex-wrap:wrap;\n",
              "      gap: 12px;\n",
              "    }\n",
              "\n",
              "    .colab-df-convert {\n",
              "      background-color: #E8F0FE;\n",
              "      border: none;\n",
              "      border-radius: 50%;\n",
              "      cursor: pointer;\n",
              "      display: none;\n",
              "      fill: #1967D2;\n",
              "      height: 32px;\n",
              "      padding: 0 0 0 0;\n",
              "      width: 32px;\n",
              "    }\n",
              "\n",
              "    .colab-df-convert:hover {\n",
              "      background-color: #E2EBFA;\n",
              "      box-shadow: 0px 1px 2px rgba(60, 64, 67, 0.3), 0px 1px 3px 1px rgba(60, 64, 67, 0.15);\n",
              "      fill: #174EA6;\n",
              "    }\n",
              "\n",
              "    [theme=dark] .colab-df-convert {\n",
              "      background-color: #3B4455;\n",
              "      fill: #D2E3FC;\n",
              "    }\n",
              "\n",
              "    [theme=dark] .colab-df-convert:hover {\n",
              "      background-color: #434B5C;\n",
              "      box-shadow: 0px 1px 3px 1px rgba(0, 0, 0, 0.15);\n",
              "      filter: drop-shadow(0px 1px 2px rgba(0, 0, 0, 0.3));\n",
              "      fill: #FFFFFF;\n",
              "    }\n",
              "  </style>\n",
              "\n",
              "      <script>\n",
              "        const buttonEl =\n",
              "          document.querySelector('#df-8c6b223a-0187-4782-91d2-88e9efe37a62 button.colab-df-convert');\n",
              "        buttonEl.style.display =\n",
              "          google.colab.kernel.accessAllowed ? 'block' : 'none';\n",
              "\n",
              "        async function convertToInteractive(key) {\n",
              "          const element = document.querySelector('#df-8c6b223a-0187-4782-91d2-88e9efe37a62');\n",
              "          const dataTable =\n",
              "            await google.colab.kernel.invokeFunction('convertToInteractive',\n",
              "                                                     [key], {});\n",
              "          if (!dataTable) return;\n",
              "\n",
              "          const docLinkHtml = 'Like what you see? Visit the ' +\n",
              "            '<a target=\"_blank\" href=https://colab.research.google.com/notebooks/data_table.ipynb>data table notebook</a>'\n",
              "            + ' to learn more about interactive tables.';\n",
              "          element.innerHTML = '';\n",
              "          dataTable['output_type'] = 'display_data';\n",
              "          await google.colab.output.renderOutput(dataTable, element);\n",
              "          const docLink = document.createElement('div');\n",
              "          docLink.innerHTML = docLinkHtml;\n",
              "          element.appendChild(docLink);\n",
              "        }\n",
              "      </script>\n",
              "    </div>\n",
              "  </div>\n",
              "  "
            ]
          },
          "metadata": {},
          "execution_count": 17
        }
      ]
    },
    {
      "cell_type": "code",
      "source": [
        "stock_prices.info()"
      ],
      "metadata": {
        "colab": {
          "base_uri": "https://localhost:8080/"
        },
        "id": "OlPlmdojlTvQ",
        "outputId": "88c202cf-deee-4d1f-a0e1-2afffc35cebd"
      },
      "id": "OlPlmdojlTvQ",
      "execution_count": 18,
      "outputs": [
        {
          "output_type": "stream",
          "name": "stdout",
          "text": [
            "<class 'pandas.core.frame.DataFrame'>\n",
            "RangeIndex: 5345 entries, 0 to 5344\n",
            "Data columns (total 7 columns):\n",
            " #   Column     Non-Null Count  Dtype  \n",
            "---  ------     --------------  -----  \n",
            " 0   Date       5345 non-null   object \n",
            " 1   Open       5345 non-null   float64\n",
            " 2   High       5345 non-null   float64\n",
            " 3   Low        5345 non-null   float64\n",
            " 4   Close      5345 non-null   float64\n",
            " 5   Adj Close  5345 non-null   float64\n",
            " 6   Volume     5345 non-null   int64  \n",
            "dtypes: float64(5), int64(1), object(1)\n",
            "memory usage: 292.4+ KB\n"
          ]
        }
      ]
    },
    {
      "cell_type": "markdown",
      "source": [
        "## Preprocessing for Historical Stock Prices Data"
      ],
      "metadata": {
        "id": "_AiMe-trmUUu"
      },
      "id": "_AiMe-trmUUu"
    },
    {
      "cell_type": "code",
      "source": [
        "# convert the date format to match the date format in the textual data\n",
        "stock_prices['Date'] = stock_prices['Date'].map(lambda x : datetime.strptime(x,'%d/%m/%Y').strftime('%Y-%m-%d')).astype('datetime64[ns]')"
      ],
      "metadata": {
        "id": "dWWV4usBmT4h"
      },
      "id": "dWWV4usBmT4h",
      "execution_count": 19,
      "outputs": []
    },
    {
      "cell_type": "markdown",
      "source": [
        "## Apply Statistical Models on the Historical Stock Prices Data"
      ],
      "metadata": {
        "id": "IGRal9xlIiMN"
      },
      "id": "IGRal9xlIiMN"
    },
    {
      "cell_type": "code",
      "source": [
        "# time axis\n",
        "time = np.arange(len(stock_prices['Close']))"
      ],
      "metadata": {
        "id": "okp-8HdXVb4Q"
      },
      "id": "okp-8HdXVb4Q",
      "execution_count": 20,
      "outputs": []
    },
    {
      "cell_type": "code",
      "source": [
        "plt.figure(figsize=(10,6))\n",
        "plt.title('Close time series')\n",
        "stock_prices['Close'].plot()\n",
        "plt.ylabel('Close')\n",
        "plt.grid()\n",
        "plt.legend()"
      ],
      "metadata": {
        "colab": {
          "base_uri": "https://localhost:8080/",
          "height": 407
        },
        "id": "9xGi8aIeIknF",
        "outputId": "2640edc4-0550-4636-b052-e5a04402e7c7"
      },
      "id": "9xGi8aIeIknF",
      "execution_count": 21,
      "outputs": [
        {
          "output_type": "execute_result",
          "data": {
            "text/plain": [
              "<matplotlib.legend.Legend at 0x7fcbdccdee90>"
            ]
          },
          "metadata": {},
          "execution_count": 21
        },
        {
          "output_type": "display_data",
          "data": {
            "text/plain": [
              "<Figure size 720x432 with 1 Axes>"
            ],
            "image/png": "[encoded data removed]"
          },
          "metadata": {
            "needs_background": "light"
          }
        }
      ]
    },
    {
      "cell_type": "code",
      "source": [
        "# plot moving average\n",
        "rolling_mean = stock_prices['Close'].rolling(window=50).mean() \n",
        "rolling_std = stock_prices['Close'].rolling(window=50).std()\n",
        "# plotting...\n",
        "plt.figure(figsize=(10,6))\n",
        "plt.title('Rolling mean and standard deviation')\n",
        "stock_prices['Close'].plot(color='blue',label='Close')\n",
        "plt.plot(time,rolling_mean,color='red',label='rolling mean')\n",
        "plt.plot(time,rolling_std,color='green',label='rolling standard deviation')\n",
        "plt.grid()\n",
        "plt.legend()"
      ],
      "metadata": {
        "colab": {
          "base_uri": "https://localhost:8080/",
          "height": 407
        },
        "id": "j4zNmF5TIkl9",
        "outputId": "9238f401-0671-493e-89ac-bdce1bad23e0"
      },
      "id": "j4zNmF5TIkl9",
      "execution_count": 22,
      "outputs": [
        {
          "output_type": "execute_result",
          "data": {
            "text/plain": [
              "<matplotlib.legend.Legend at 0x7fcbdccde590>"
            ]
          },
          "metadata": {},
          "execution_count": 22
        },
        {
          "output_type": "display_data",
          "data": {
            "text/plain": [
              "<Figure size 720x432 with 1 Axes>"
            ],
            "image/png": "[encoded data removed]"
          },
          "metadata": {
            "needs_background": "light"
          }
        }
      ]
    },
    {
      "cell_type": "code",
      "source": [
        "# plot returns\n",
        "returns = stock_prices['Close'] / (stock_prices['Close'].shift(1) - 1)\n",
        "# plotting...\n",
        "plt.figure(figsize=(10,6))\n",
        "plt.title('Returns time series')\n",
        "plt.plot(time,returns,color='blue',label='returns')\n",
        "plt.grid()\n",
        "plt.legend()"
      ],
      "metadata": {
        "colab": {
          "base_uri": "https://localhost:8080/",
          "height": 407
        },
        "id": "5tQ0RBOuIkhO",
        "outputId": "3044de4e-1f77-47c3-ba93-63ff1a4bf56b"
      },
      "id": "5tQ0RBOuIkhO",
      "execution_count": 23,
      "outputs": [
        {
          "output_type": "execute_result",
          "data": {
            "text/plain": [
              "<matplotlib.legend.Legend at 0x7fcbdca30690>"
            ]
          },
          "metadata": {},
          "execution_count": 23
        },
        {
          "output_type": "display_data",
          "data": {
            "text/plain": [
              "<Figure size 720x432 with 1 Axes>"
            ],
            "image/png": "[encoded data removed]"
          },
          "metadata": {
            "needs_background": "light"
          }
        }
      ]
    },
    {
      "cell_type": "code",
      "source": [
        "# split quantity\n",
        "SPLIT = 4276"
      ],
      "metadata": {
        "id": "DziSfz3GIkf9"
      },
      "id": "DziSfz3GIkf9",
      "execution_count": 24,
      "outputs": []
    },
    {
      "cell_type": "code",
      "source": [
        "# split the data into training and testing sets\n",
        "train = stock_prices[:SPLIT]\n",
        "test = stock_prices[SPLIT:]"
      ],
      "metadata": {
        "id": "p61F9C3uIkcw"
      },
      "id": "p61F9C3uIkcw",
      "execution_count": 25,
      "outputs": []
    },
    {
      "cell_type": "code",
      "source": [
        "# time axis train\n",
        "time_train = np.arange(len(train.Close))\n",
        "# time axis test\n",
        "time_test = np.arange(len(test.Close))"
      ],
      "metadata": {
        "id": "U_BP26pJdfr-"
      },
      "id": "U_BP26pJdfr-",
      "execution_count": 26,
      "outputs": []
    },
    {
      "cell_type": "code",
      "source": [
        "# stationary test\n",
        "def stationary_test(series):\n",
        "  time_x = np.arange(len(series))\n",
        "  mean = series.rolling(window=50).mean() \n",
        "  std = series.rolling(window=50).std()\n",
        "  plt.figure(figsize=(10,6))\n",
        "  plt.title('Rolling mean and standard deviation')\n",
        "  series.plot(color='blue',label='Close')\n",
        "  plt.plot(time_x,mean,color='red',label='rolling mean')\n",
        "  plt.plot(time_x,std,color='green',label='rolling standard deviation')\n",
        "  plt.grid()\n",
        "  plt.legend()\n",
        "\n",
        "  print('Results of dickey fuller test')\n",
        "  result = adfuller(series, autolag = 'AIC')\n",
        "  labels = ['ADF Test Statistic','p-value','#Lags Used','Number of Observations Used']\n",
        "  for value , label in zip(result,labels):\n",
        "    print(label, ':' , value)\n",
        "  if result[1] <= 0.05:\n",
        "    print(\"Strong evidence against the null hypothesis(Ho), reject the null hypothesis. Data is stationary\")\n",
        "  else:\n",
        "    print(\"Weak evidence against null hypothesis, time series is non-stationary \")"
      ],
      "metadata": {
        "id": "1HXjzCsBIkZy"
      },
      "id": "1HXjzCsBIkZy",
      "execution_count": 27,
      "outputs": []
    },
    {
      "cell_type": "code",
      "source": [
        "stationary_test(train.Close)"
      ],
      "metadata": {
        "colab": {
          "base_uri": "https://localhost:8080/",
          "height": 494
        },
        "id": "Ecnxw-lyIkWH",
        "outputId": "247fb2b7-0970-4221-a5d6-41d1c63e2a45"
      },
      "id": "Ecnxw-lyIkWH",
      "execution_count": 28,
      "outputs": [
        {
          "output_type": "stream",
          "name": "stdout",
          "text": [
            "Results of dickey fuller test\n",
            "ADF Test Statistic : 1.7932084952085314\n",
            "p-value : 0.99833545164189\n",
            "#Lags Used : 2\n",
            "Number of Observations Used : 4273\n",
            "Weak evidence against null hypothesis, time series is non-stationary \n"
          ]
        },
        {
          "output_type": "display_data",
          "data": {
            "text/plain": [
              "<Figure size 720x432 with 1 Axes>"
            ],
            "image/png": "[encoded data removed]"
          },
          "metadata": {
            "needs_background": "light"
          }
        }
      ]
    },
    {
      "cell_type": "code",
      "source": [
        "# log\n",
        "train_log = np.log(train['Close'])\n",
        "test_log = np.log(test['Close'])\n",
        "\n",
        "rolling_log_mean = train_log.rolling(24).mean()\n",
        "plt.figure(figsize=(10,6))\n",
        "plt.title('Rolling mean of log train')\n",
        "plt.ylabel('Close log')\n",
        "plt.plot(time_train,train_log,color='blue',label='close log')\n",
        "plt.plot(time_train,rolling_log_mean,color='red',label='rolling log mean')\n",
        "plt.grid()\n",
        "plt.legend()"
      ],
      "metadata": {
        "colab": {
          "base_uri": "https://localhost:8080/",
          "height": 407
        },
        "id": "m8v63iuMIkT7",
        "outputId": "02f22fd4-da67-4f10-9247-a0aae1611c55"
      },
      "id": "m8v63iuMIkT7",
      "execution_count": 29,
      "outputs": [
        {
          "output_type": "execute_result",
          "data": {
            "text/plain": [
              "<matplotlib.legend.Legend at 0x7fcbdca3c0d0>"
            ]
          },
          "metadata": {},
          "execution_count": 29
        },
        {
          "output_type": "display_data",
          "data": {
            "text/plain": [
              "<Figure size 720x432 with 1 Axes>"
            ],
            "image/png": "[encoded data removed]"
          },
          "metadata": {
            "needs_background": "light"
          }
        }
      ]
    },
    {
      "cell_type": "code",
      "source": [
        "stationary_test(train_log)"
      ],
      "metadata": {
        "colab": {
          "base_uri": "https://localhost:8080/",
          "height": 494
        },
        "id": "IdYLTXb3IkQI",
        "outputId": "05e651da-2f78-48c6-885c-aa03dd25aec8"
      },
      "id": "IdYLTXb3IkQI",
      "execution_count": 30,
      "outputs": [
        {
          "output_type": "stream",
          "name": "stdout",
          "text": [
            "Results of dickey fuller test\n",
            "ADF Test Statistic : 0.15754737060724225\n",
            "p-value : 0.9697774809553974\n",
            "#Lags Used : 19\n",
            "Number of Observations Used : 4256\n",
            "Weak evidence against null hypothesis, time series is non-stationary \n"
          ]
        },
        {
          "output_type": "display_data",
          "data": {
            "text/plain": [
              "<Figure size 720x432 with 1 Axes>"
            ],
            "image/png": "[encoded data removed]"
          },
          "metadata": {
            "needs_background": "light"
          }
        }
      ]
    },
    {
      "cell_type": "code",
      "source": [
        "train_log_diff = train_log - rolling_log_mean\n",
        "train_log_diff.dropna(inplace=True)\n",
        "# apply the sationary test\n",
        "stationary_test(train_log_diff)"
      ],
      "metadata": {
        "colab": {
          "base_uri": "https://localhost:8080/",
          "height": 494
        },
        "id": "XNY2FOOUIkNp",
        "outputId": "685e1edd-284d-46f1-d842-f76a33b3d29d"
      },
      "id": "XNY2FOOUIkNp",
      "execution_count": 31,
      "outputs": [
        {
          "output_type": "stream",
          "name": "stdout",
          "text": [
            "Results of dickey fuller test\n",
            "ADF Test Statistic : -10.00658709443466\n",
            "p-value : 1.8246663152584574e-17\n",
            "#Lags Used : 23\n",
            "Number of Observations Used : 4229\n",
            "Strong evidence against the null hypothesis(Ho), reject the null hypothesis. Data is stationary\n"
          ]
        },
        {
          "output_type": "display_data",
          "data": {
            "text/plain": [
              "<Figure size 720x432 with 1 Axes>"
            ],
            "image/png": "[encoded data removed]"
          },
          "metadata": {
            "needs_background": "light"
          }
        }
      ]
    },
    {
      "cell_type": "code",
      "source": [
        "model = auto_arima(train_log, trace=True,error_action='ignore',suppress_warnings=True)\n",
        "model.fit(train_log)\n",
        "preds = model.predict(n_periods=len(test))\n",
        "preds_df = pd.DataFrame(preds,index=test_log.index,columns=['predictions'])"
      ],
      "metadata": {
        "colab": {
          "base_uri": "https://localhost:8080/"
        },
        "id": "rFtnRFaPIkHV",
        "outputId": "c9a2577c-8c19-4656-bb65-0e07db641724"
      },
      "id": "rFtnRFaPIkHV",
      "execution_count": 32,
      "outputs": [
        {
          "output_type": "stream",
          "name": "stdout",
          "text": [
            "Performing stepwise search to minimize aic\n",
            " ARIMA(2,1,2)(0,0,0)[0] intercept   : AIC=-24003.685, Time=3.30 sec\n",
            " ARIMA(0,1,0)(0,0,0)[0] intercept   : AIC=-23990.498, Time=0.69 sec\n",
            " ARIMA(1,1,0)(0,0,0)[0] intercept   : AIC=-23993.381, Time=0.49 sec\n",
            " ARIMA(0,1,1)(0,0,0)[0] intercept   : AIC=-23993.960, Time=0.88 sec\n",
            " ARIMA(0,1,0)(0,0,0)[0]             : AIC=-23991.167, Time=0.18 sec\n",
            " ARIMA(1,1,2)(0,0,0)[0] intercept   : AIC=-24005.521, Time=5.57 sec\n",
            " ARIMA(0,1,2)(0,0,0)[0] intercept   : AIC=-24006.656, Time=2.03 sec\n",
            " ARIMA(0,1,3)(0,0,0)[0] intercept   : AIC=-24005.060, Time=1.81 sec\n",
            " ARIMA(1,1,1)(0,0,0)[0] intercept   : AIC=-23994.928, Time=1.08 sec\n",
            " ARIMA(1,1,3)(0,0,0)[0] intercept   : AIC=-24003.010, Time=1.45 sec\n",
            " ARIMA(0,1,2)(0,0,0)[0]             : AIC=-24007.057, Time=1.61 sec\n",
            " ARIMA(0,1,1)(0,0,0)[0]             : AIC=-23994.533, Time=0.27 sec\n",
            " ARIMA(1,1,2)(0,0,0)[0]             : AIC=-24005.530, Time=0.41 sec\n",
            " ARIMA(0,1,3)(0,0,0)[0]             : AIC=-24005.501, Time=0.46 sec\n",
            " ARIMA(1,1,1)(0,0,0)[0]             : AIC=-23995.367, Time=0.32 sec\n",
            " ARIMA(1,1,3)(0,0,0)[0]             : AIC=-24003.453, Time=0.54 sec\n",
            "\n",
            "Best model:  ARIMA(0,1,2)(0,0,0)[0]          \n",
            "Total fit time: 21.147 seconds\n"
          ]
        }
      ]
    },
    {
      "cell_type": "code",
      "source": [
        "plt.figure(figsize=(10,6))\n",
        "plt.title('Stock Prices with Predictions')\n",
        "plt.plot(train_log,label='Train')\n",
        "plt.plot(test_log,label='Test')\n",
        "plt.plot(preds_df,label='Predictions')\n",
        "plt.ylabel('Actual Stock Price')\n",
        "plt.xlabel('Time')\n",
        "plt.grid()\n",
        "plt.legend()"
      ],
      "metadata": {
        "colab": {
          "base_uri": "https://localhost:8080/",
          "height": 421
        },
        "id": "Pev84YrgIkGd",
        "outputId": "d179a68e-fd0d-4245-a291-ab35f328fdaf"
      },
      "id": "Pev84YrgIkGd",
      "execution_count": 44,
      "outputs": [
        {
          "output_type": "execute_result",
          "data": {
            "text/plain": [
              "<matplotlib.legend.Legend at 0x7fcb9a154f10>"
            ]
          },
          "metadata": {},
          "execution_count": 44
        },
        {
          "output_type": "display_data",
          "data": {
            "text/plain": [
              "<Figure size 720x432 with 1 Axes>"
            ],
            "image/png": "[encoded data removed]"
          },
          "metadata": {
            "needs_background": "light"
          }
        }
      ]
    },
    {
      "cell_type": "code",
      "source": [
        "# calculating error\n",
        "rmse = np.sqrt(mean_squared_error(test_log,preds_df))\n",
        "print('RMSE:',rmse)"
      ],
      "metadata": {
        "colab": {
          "base_uri": "https://localhost:8080/"
        },
        "id": "9mW-2J43Ij-X",
        "outputId": "554500b2-5aef-41f8-a682-cfaf87f8943e"
      },
      "id": "9mW-2J43Ij-X",
      "execution_count": 47,
      "outputs": [
        {
          "output_type": "stream",
          "name": "stdout",
          "text": [
            "RMSE: 0.4490829135765086\n"
          ]
        }
      ]
    },
    {
      "cell_type": "markdown",
      "source": [
        "## Part3: Hybrid Model using Textual Data with Numerical Data"
      ],
      "metadata": {
        "id": "CfiAPLAM-the"
      },
      "id": "CfiAPLAM-the"
    },
    {
      "cell_type": "markdown",
      "source": [
        "## Merge Textual and Numerical Data"
      ],
      "metadata": {
        "id": "TpavvQb_mKzA"
      },
      "id": "TpavvQb_mKzA"
    },
    {
      "cell_type": "code",
      "source": [
        "indian_news = indian_news.rename(columns={'publish_date':'Date'})\n",
        "Data = pd.merge(stock_prices,indian_news,how='inner',on='Date')"
      ],
      "metadata": {
        "id": "9kYC3n-Y_A0k"
      },
      "id": "9kYC3n-Y_A0k",
      "execution_count": 48,
      "outputs": []
    },
    {
      "cell_type": "code",
      "source": [
        "# drop unnecessary columns\n",
        "Data.drop(columns=['Date','headline_text','Volume','Open','High','Low','Adj Close'],inplace=True)\n",
        "print('Shape of the Data is:',Data.shape)\n",
        "print(Data.columns)"
      ],
      "metadata": {
        "colab": {
          "base_uri": "https://localhost:8080/"
        },
        "id": "9OoOdF5F_D-e",
        "outputId": "fab672ea-fffb-45fe-d352-175348660640"
      },
      "id": "9OoOdF5F_D-e",
      "execution_count": 49,
      "outputs": [
        {
          "output_type": "stream",
          "name": "stdout",
          "text": [
            "Shape of the Data is: (5317, 7)\n",
            "Index(['Close', 'polarity', 'subjectivity', 'compound', 'positive', 'negative',\n",
            "       'neutral'],\n",
            "      dtype='object')\n"
          ]
        }
      ]
    },
    {
      "cell_type": "code",
      "source": [
        "Data"
      ],
      "metadata": {
        "colab": {
          "base_uri": "https://localhost:8080/",
          "height": 424
        },
        "id": "deGm5I6siJSA",
        "outputId": "3f6250c5-9e4c-4f3a-f9e2-6c8e7148921a"
      },
      "id": "deGm5I6siJSA",
      "execution_count": 50,
      "outputs": [
        {
          "output_type": "execute_result",
          "data": {
            "text/plain": [
              "             Close  polarity  subjectivity  ...  positive  negative  neutral\n",
              "0      2291.860107  0.130159      0.259921  ...     0.105     0.170    0.726\n",
              "1      2616.689941  0.111538      0.415385  ...     0.147     0.154    0.698\n",
              "2      2566.830078  0.074312      0.431387  ...     0.129     0.132    0.739\n",
              "3      2407.649902  0.258827      0.505995  ...     0.182     0.176    0.641\n",
              "4      2395.919922 -0.033519      0.415078  ...     0.093     0.156    0.751\n",
              "...            ...       ...           ...  ...       ...       ...      ...\n",
              "5312  14191.839840  0.025311      0.371786  ...     0.089     0.178    0.733\n",
              "5313  14169.299810 -0.037316      0.374964  ...     0.080     0.177    0.743\n",
              "5314  14354.900390  0.053706      0.387789  ...     0.106     0.154    0.740\n",
              "5315  14619.639650  0.074313      0.404815  ...     0.092     0.150    0.758\n",
              "5316  14442.269530  0.020873      0.346238  ...     0.089     0.161    0.749\n",
              "\n",
              "[5317 rows x 7 columns]"
            ],
            "text/html": [
              "\n",
              "  <div id=\"df-50c10a1f-e0dd-4619-bfc6-176cea20efde\">\n",
              "    <div class=\"colab-df-container\">\n",
              "      <div>\n",
              "<style scoped>\n",
              "    .dataframe tbody tr th:only-of-type {\n",
              "        vertical-align: middle;\n",
              "    }\n",
              "\n",
              "    .dataframe tbody tr th {\n",
              "        vertical-align: top;\n",
              "    }\n",
              "\n",
              "    .dataframe thead th {\n",
              "        text-align: right;\n",
              "    }\n",
              "</style>\n",
              "<table border=\"1\" class=\"dataframe\">\n",
              "  <thead>\n",
              "    <tr style=\"text-align: right;\">\n",
              "      <th></th>\n",
              "      <th>Close</th>\n",
              "      <th>polarity</th>\n",
              "      <th>subjectivity</th>\n",
              "      <th>compound</th>\n",
              "      <th>positive</th>\n",
              "      <th>negative</th>\n",
              "      <th>neutral</th>\n",
              "    </tr>\n",
              "  </thead>\n",
              "  <tbody>\n",
              "    <tr>\n",
              "      <th>0</th>\n",
              "      <td>2291.860107</td>\n",
              "      <td>0.130159</td>\n",
              "      <td>0.259921</td>\n",
              "      <td>-0.9662</td>\n",
              "      <td>0.105</td>\n",
              "      <td>0.170</td>\n",
              "      <td>0.726</td>\n",
              "    </tr>\n",
              "    <tr>\n",
              "      <th>1</th>\n",
              "      <td>2616.689941</td>\n",
              "      <td>0.111538</td>\n",
              "      <td>0.415385</td>\n",
              "      <td>-0.1280</td>\n",
              "      <td>0.147</td>\n",
              "      <td>0.154</td>\n",
              "      <td>0.698</td>\n",
              "    </tr>\n",
              "    <tr>\n",
              "      <th>2</th>\n",
              "      <td>2566.830078</td>\n",
              "      <td>0.074312</td>\n",
              "      <td>0.431387</td>\n",
              "      <td>0.4019</td>\n",
              "      <td>0.129</td>\n",
              "      <td>0.132</td>\n",
              "      <td>0.739</td>\n",
              "    </tr>\n",
              "    <tr>\n",
              "      <th>3</th>\n",
              "      <td>2407.649902</td>\n",
              "      <td>0.258827</td>\n",
              "      <td>0.505995</td>\n",
              "      <td>0.8300</td>\n",
              "      <td>0.182</td>\n",
              "      <td>0.176</td>\n",
              "      <td>0.641</td>\n",
              "    </tr>\n",
              "    <tr>\n",
              "      <th>4</th>\n",
              "      <td>2395.919922</td>\n",
              "      <td>-0.033519</td>\n",
              "      <td>0.415078</td>\n",
              "      <td>-0.9709</td>\n",
              "      <td>0.093</td>\n",
              "      <td>0.156</td>\n",
              "      <td>0.751</td>\n",
              "    </tr>\n",
              "    <tr>\n",
              "      <th>...</th>\n",
              "      <td>...</td>\n",
              "      <td>...</td>\n",
              "      <td>...</td>\n",
              "      <td>...</td>\n",
              "      <td>...</td>\n",
              "      <td>...</td>\n",
              "      <td>...</td>\n",
              "    </tr>\n",
              "    <tr>\n",
              "      <th>5312</th>\n",
              "      <td>14191.839840</td>\n",
              "      <td>0.025311</td>\n",
              "      <td>0.371786</td>\n",
              "      <td>-0.9999</td>\n",
              "      <td>0.089</td>\n",
              "      <td>0.178</td>\n",
              "      <td>0.733</td>\n",
              "    </tr>\n",
              "    <tr>\n",
              "      <th>5313</th>\n",
              "      <td>14169.299810</td>\n",
              "      <td>-0.037316</td>\n",
              "      <td>0.374964</td>\n",
              "      <td>-0.9999</td>\n",
              "      <td>0.080</td>\n",
              "      <td>0.177</td>\n",
              "      <td>0.743</td>\n",
              "    </tr>\n",
              "    <tr>\n",
              "      <th>5314</th>\n",
              "      <td>14354.900390</td>\n",
              "      <td>0.053706</td>\n",
              "      <td>0.387789</td>\n",
              "      <td>-0.9996</td>\n",
              "      <td>0.106</td>\n",
              "      <td>0.154</td>\n",
              "      <td>0.740</td>\n",
              "    </tr>\n",
              "    <tr>\n",
              "      <th>5315</th>\n",
              "      <td>14619.639650</td>\n",
              "      <td>0.074313</td>\n",
              "      <td>0.404815</td>\n",
              "      <td>-0.9997</td>\n",
              "      <td>0.092</td>\n",
              "      <td>0.150</td>\n",
              "      <td>0.758</td>\n",
              "    </tr>\n",
              "    <tr>\n",
              "      <th>5316</th>\n",
              "      <td>14442.269530</td>\n",
              "      <td>0.020873</td>\n",
              "      <td>0.346238</td>\n",
              "      <td>-0.9998</td>\n",
              "      <td>0.089</td>\n",
              "      <td>0.161</td>\n",
              "      <td>0.749</td>\n",
              "    </tr>\n",
              "  </tbody>\n",
              "</table>\n",
              "<p>5317 rows × 7 columns</p>\n",
              "</div>\n",
              "      <button class=\"colab-df-convert\" onclick=\"convertToInteractive('df-50c10a1f-e0dd-4619-bfc6-176cea20efde')\"\n",
              "              title=\"Convert this dataframe to an interactive table.\"\n",
              "              style=\"display:none;\">\n",
              "        \n",
              "  <svg xmlns=\"http://www.w3.org/2000/svg\" height=\"24px\"viewBox=\"0 0 24 24\"\n",
              "       width=\"24px\">\n",
              "    <path d=\"M0 0h24v24H0V0z\" fill=\"none\"/>\n",
              "    <path d=\"M18.56 5.44l.94 2.06.94-2.06 2.06-.94-2.06-.94-.94-2.06-.94 2.06-2.06.94zm-11 1L8.5 8.5l.94-2.06 2.06-.94-2.06-.94L8.5 2.5l-.94 2.06-2.06.94zm10 10l.94 2.06.94-2.06 2.06-.94-2.06-.94-.94-2.06-.94 2.06-2.06.94z\"/><path d=\"M17.41 7.96l-1.37-1.37c-.4-.4-.92-.59-1.43-.59-.52 0-1.04.2-1.43.59L10.3 9.45l-7.72 7.72c-.78.78-.78 2.05 0 2.83L4 21.41c.39.39.9.59 1.41.59.51 0 1.02-.2 1.41-.59l7.78-7.78 2.81-2.81c.8-.78.8-2.07 0-2.86zM5.41 20L4 18.59l7.72-7.72 1.47 1.35L5.41 20z\"/>\n",
              "  </svg>\n",
              "      </button>\n",
              "      \n",
              "  <style>\n",
              "    .colab-df-container {\n",
              "      display:flex;\n",
              "      flex-wrap:wrap;\n",
              "      gap: 12px;\n",
              "    }\n",
              "\n",
              "    .colab-df-convert {\n",
              "      background-color: #E8F0FE;\n",
              "      border: none;\n",
              "      border-radius: 50%;\n",
              "      cursor: pointer;\n",
              "      display: none;\n",
              "      fill: #1967D2;\n",
              "      height: 32px;\n",
              "      padding: 0 0 0 0;\n",
              "      width: 32px;\n",
              "    }\n",
              "\n",
              "    .colab-df-convert:hover {\n",
              "      background-color: #E2EBFA;\n",
              "      box-shadow: 0px 1px 2px rgba(60, 64, 67, 0.3), 0px 1px 3px 1px rgba(60, 64, 67, 0.15);\n",
              "      fill: #174EA6;\n",
              "    }\n",
              "\n",
              "    [theme=dark] .colab-df-convert {\n",
              "      background-color: #3B4455;\n",
              "      fill: #D2E3FC;\n",
              "    }\n",
              "\n",
              "    [theme=dark] .colab-df-convert:hover {\n",
              "      background-color: #434B5C;\n",
              "      box-shadow: 0px 1px 3px 1px rgba(0, 0, 0, 0.15);\n",
              "      filter: drop-shadow(0px 1px 2px rgba(0, 0, 0, 0.3));\n",
              "      fill: #FFFFFF;\n",
              "    }\n",
              "  </style>\n",
              "\n",
              "      <script>\n",
              "        const buttonEl =\n",
              "          document.querySelector('#df-50c10a1f-e0dd-4619-bfc6-176cea20efde button.colab-df-convert');\n",
              "        buttonEl.style.display =\n",
              "          google.colab.kernel.accessAllowed ? 'block' : 'none';\n",
              "\n",
              "        async function convertToInteractive(key) {\n",
              "          const element = document.querySelector('#df-50c10a1f-e0dd-4619-bfc6-176cea20efde');\n",
              "          const dataTable =\n",
              "            await google.colab.kernel.invokeFunction('convertToInteractive',\n",
              "                                                     [key], {});\n",
              "          if (!dataTable) return;\n",
              "\n",
              "          const docLinkHtml = 'Like what you see? Visit the ' +\n",
              "            '<a target=\"_blank\" href=https://colab.research.google.com/notebooks/data_table.ipynb>data table notebook</a>'\n",
              "            + ' to learn more about interactive tables.';\n",
              "          element.innerHTML = '';\n",
              "          dataTable['output_type'] = 'display_data';\n",
              "          await google.colab.output.renderOutput(dataTable, element);\n",
              "          const docLink = document.createElement('div');\n",
              "          docLink.innerHTML = docLinkHtml;\n",
              "          element.appendChild(docLink);\n",
              "        }\n",
              "      </script>\n",
              "    </div>\n",
              "  </div>\n",
              "  "
            ]
          },
          "metadata": {},
          "execution_count": 50
        }
      ]
    },
    {
      "cell_type": "markdown",
      "source": [
        "## Scale the Data to be ready to fed into the Machine Learning Algorithms"
      ],
      "metadata": {
        "id": "FXevh3VZmPUM"
      },
      "id": "FXevh3VZmPUM"
    },
    {
      "cell_type": "code",
      "source": [
        "# scale the data\n",
        "scaler = StandardScaler()\n",
        "Data_scaled = scaler.fit_transform(Data)\n",
        "\n",
        "# convert data into dataframe\n",
        "Data_scaled_df = pd.DataFrame(Data_scaled,index=Data.index,columns=Data.columns)\n",
        "Data_scaled_df"
      ],
      "metadata": {
        "colab": {
          "base_uri": "https://localhost:8080/",
          "height": 424
        },
        "id": "CyMIbQ6ziGAq",
        "outputId": "9962bae1-3d8e-4586-f9c2-18656a3afad1"
      },
      "id": "CyMIbQ6ziGAq",
      "execution_count": 51,
      "outputs": [
        {
          "output_type": "execute_result",
          "data": {
            "text/plain": [
              "         Close  polarity  subjectivity  compound  positive  negative   neutral\n",
              "0    -0.622009  1.966532     -3.773237 -0.185773 -0.503235  0.055229  0.391192\n",
              "1    -0.527010  1.495465      0.228304  1.814160  1.194262 -0.607553 -0.511712\n",
              "2    -0.541592  0.553686      0.640200  3.078494  0.466763 -1.518879  0.810397\n",
              "3    -0.588145  5.221674      2.560549  4.099934  2.608842  0.303773 -2.349766\n",
              "4    -0.591576 -2.174304      0.220410 -0.196987 -0.988234 -0.524705  1.197356\n",
              "...        ...       ...           ...       ...       ...       ...       ...\n",
              "5312  2.858212 -0.685985     -0.893905 -0.266180 -1.149900  0.386620  0.616918\n",
              "5313  2.851620 -2.270350     -0.812096 -0.266180 -1.513649  0.345196  0.939384\n",
              "5314  2.905900  0.032390     -0.481988 -0.265465 -0.462818 -0.607553  0.842644\n",
              "5315  2.983324  0.553712     -0.043739 -0.265703 -1.028650 -0.773249  1.423082\n",
              "5316  2.931451 -0.798254     -1.551483 -0.265942 -1.149900 -0.317586  1.132863\n",
              "\n",
              "[5317 rows x 7 columns]"
            ],
            "text/html": [
              "\n",
              "  <div id=\"df-e77102cc-c2d1-41a4-9737-b8324a57a2b6\">\n",
              "    <div class=\"colab-df-container\">\n",
              "      <div>\n",
              "<style scoped>\n",
              "    .dataframe tbody tr th:only-of-type {\n",
              "        vertical-align: middle;\n",
              "    }\n",
              "\n",
              "    .dataframe tbody tr th {\n",
              "        vertical-align: top;\n",
              "    }\n",
              "\n",
              "    .dataframe thead th {\n",
              "        text-align: right;\n",
              "    }\n",
              "</style>\n",
              "<table border=\"1\" class=\"dataframe\">\n",
              "  <thead>\n",
              "    <tr style=\"text-align: right;\">\n",
              "      <th></th>\n",
              "      <th>Close</th>\n",
              "      <th>polarity</th>\n",
              "      <th>subjectivity</th>\n",
              "      <th>compound</th>\n",
              "      <th>positive</th>\n",
              "      <th>negative</th>\n",
              "      <th>neutral</th>\n",
              "    </tr>\n",
              "  </thead>\n",
              "  <tbody>\n",
              "    <tr>\n",
              "      <th>0</th>\n",
              "      <td>-0.622009</td>\n",
              "      <td>1.966532</td>\n",
              "      <td>-3.773237</td>\n",
              "      <td>-0.185773</td>\n",
              "      <td>-0.503235</td>\n",
              "      <td>0.055229</td>\n",
              "      <td>0.391192</td>\n",
              "    </tr>\n",
              "    <tr>\n",
              "      <th>1</th>\n",
              "      <td>-0.527010</td>\n",
              "      <td>1.495465</td>\n",
              "      <td>0.228304</td>\n",
              "      <td>1.814160</td>\n",
              "      <td>1.194262</td>\n",
              "      <td>-0.607553</td>\n",
              "      <td>-0.511712</td>\n",
              "    </tr>\n",
              "    <tr>\n",
              "      <th>2</th>\n",
              "      <td>-0.541592</td>\n",
              "      <td>0.553686</td>\n",
              "      <td>0.640200</td>\n",
              "      <td>3.078494</td>\n",
              "      <td>0.466763</td>\n",
              "      <td>-1.518879</td>\n",
              "      <td>0.810397</td>\n",
              "    </tr>\n",
              "    <tr>\n",
              "      <th>3</th>\n",
              "      <td>-0.588145</td>\n",
              "      <td>5.221674</td>\n",
              "      <td>2.560549</td>\n",
              "      <td>4.099934</td>\n",
              "      <td>2.608842</td>\n",
              "      <td>0.303773</td>\n",
              "      <td>-2.349766</td>\n",
              "    </tr>\n",
              "    <tr>\n",
              "      <th>4</th>\n",
              "      <td>-0.591576</td>\n",
              "      <td>-2.174304</td>\n",
              "      <td>0.220410</td>\n",
              "      <td>-0.196987</td>\n",
              "      <td>-0.988234</td>\n",
              "      <td>-0.524705</td>\n",
              "      <td>1.197356</td>\n",
              "    </tr>\n",
              "    <tr>\n",
              "      <th>...</th>\n",
              "      <td>...</td>\n",
              "      <td>...</td>\n",
              "      <td>...</td>\n",
              "      <td>...</td>\n",
              "      <td>...</td>\n",
              "      <td>...</td>\n",
              "      <td>...</td>\n",
              "    </tr>\n",
              "    <tr>\n",
              "      <th>5312</th>\n",
              "      <td>2.858212</td>\n",
              "      <td>-0.685985</td>\n",
              "      <td>-0.893905</td>\n",
              "      <td>-0.266180</td>\n",
              "      <td>-1.149900</td>\n",
              "      <td>0.386620</td>\n",
              "      <td>0.616918</td>\n",
              "    </tr>\n",
              "    <tr>\n",
              "      <th>5313</th>\n",
              "      <td>2.851620</td>\n",
              "      <td>-2.270350</td>\n",
              "      <td>-0.812096</td>\n",
              "      <td>-0.266180</td>\n",
              "      <td>-1.513649</td>\n",
              "      <td>0.345196</td>\n",
              "      <td>0.939384</td>\n",
              "    </tr>\n",
              "    <tr>\n",
              "      <th>5314</th>\n",
              "      <td>2.905900</td>\n",
              "      <td>0.032390</td>\n",
              "      <td>-0.481988</td>\n",
              "      <td>-0.265465</td>\n",
              "      <td>-0.462818</td>\n",
              "      <td>-0.607553</td>\n",
              "      <td>0.842644</td>\n",
              "    </tr>\n",
              "    <tr>\n",
              "      <th>5315</th>\n",
              "      <td>2.983324</td>\n",
              "      <td>0.553712</td>\n",
              "      <td>-0.043739</td>\n",
              "      <td>-0.265703</td>\n",
              "      <td>-1.028650</td>\n",
              "      <td>-0.773249</td>\n",
              "      <td>1.423082</td>\n",
              "    </tr>\n",
              "    <tr>\n",
              "      <th>5316</th>\n",
              "      <td>2.931451</td>\n",
              "      <td>-0.798254</td>\n",
              "      <td>-1.551483</td>\n",
              "      <td>-0.265942</td>\n",
              "      <td>-1.149900</td>\n",
              "      <td>-0.317586</td>\n",
              "      <td>1.132863</td>\n",
              "    </tr>\n",
              "  </tbody>\n",
              "</table>\n",
              "<p>5317 rows × 7 columns</p>\n",
              "</div>\n",
              "      <button class=\"colab-df-convert\" onclick=\"convertToInteractive('df-e77102cc-c2d1-41a4-9737-b8324a57a2b6')\"\n",
              "              title=\"Convert this dataframe to an interactive table.\"\n",
              "              style=\"display:none;\">\n",
              "        \n",
              "  <svg xmlns=\"http://www.w3.org/2000/svg\" height=\"24px\"viewBox=\"0 0 24 24\"\n",
              "       width=\"24px\">\n",
              "    <path d=\"M0 0h24v24H0V0z\" fill=\"none\"/>\n",
              "    <path d=\"M18.56 5.44l.94 2.06.94-2.06 2.06-.94-2.06-.94-.94-2.06-.94 2.06-2.06.94zm-11 1L8.5 8.5l.94-2.06 2.06-.94-2.06-.94L8.5 2.5l-.94 2.06-2.06.94zm10 10l.94 2.06.94-2.06 2.06-.94-2.06-.94-.94-2.06-.94 2.06-2.06.94z\"/><path d=\"M17.41 7.96l-1.37-1.37c-.4-.4-.92-.59-1.43-.59-.52 0-1.04.2-1.43.59L10.3 9.45l-7.72 7.72c-.78.78-.78 2.05 0 2.83L4 21.41c.39.39.9.59 1.41.59.51 0 1.02-.2 1.41-.59l7.78-7.78 2.81-2.81c.8-.78.8-2.07 0-2.86zM5.41 20L4 18.59l7.72-7.72 1.47 1.35L5.41 20z\"/>\n",
              "  </svg>\n",
              "      </button>\n",
              "      \n",
              "  <style>\n",
              "    .colab-df-container {\n",
              "      display:flex;\n",
              "      flex-wrap:wrap;\n",
              "      gap: 12px;\n",
              "    }\n",
              "\n",
              "    .colab-df-convert {\n",
              "      background-color: #E8F0FE;\n",
              "      border: none;\n",
              "      border-radius: 50%;\n",
              "      cursor: pointer;\n",
              "      display: none;\n",
              "      fill: #1967D2;\n",
              "      height: 32px;\n",
              "      padding: 0 0 0 0;\n",
              "      width: 32px;\n",
              "    }\n",
              "\n",
              "    .colab-df-convert:hover {\n",
              "      background-color: #E2EBFA;\n",
              "      box-shadow: 0px 1px 2px rgba(60, 64, 67, 0.3), 0px 1px 3px 1px rgba(60, 64, 67, 0.15);\n",
              "      fill: #174EA6;\n",
              "    }\n",
              "\n",
              "    [theme=dark] .colab-df-convert {\n",
              "      background-color: #3B4455;\n",
              "      fill: #D2E3FC;\n",
              "    }\n",
              "\n",
              "    [theme=dark] .colab-df-convert:hover {\n",
              "      background-color: #434B5C;\n",
              "      box-shadow: 0px 1px 3px 1px rgba(0, 0, 0, 0.15);\n",
              "      filter: drop-shadow(0px 1px 2px rgba(0, 0, 0, 0.3));\n",
              "      fill: #FFFFFF;\n",
              "    }\n",
              "  </style>\n",
              "\n",
              "      <script>\n",
              "        const buttonEl =\n",
              "          document.querySelector('#df-e77102cc-c2d1-41a4-9737-b8324a57a2b6 button.colab-df-convert');\n",
              "        buttonEl.style.display =\n",
              "          google.colab.kernel.accessAllowed ? 'block' : 'none';\n",
              "\n",
              "        async function convertToInteractive(key) {\n",
              "          const element = document.querySelector('#df-e77102cc-c2d1-41a4-9737-b8324a57a2b6');\n",
              "          const dataTable =\n",
              "            await google.colab.kernel.invokeFunction('convertToInteractive',\n",
              "                                                     [key], {});\n",
              "          if (!dataTable) return;\n",
              "\n",
              "          const docLinkHtml = 'Like what you see? Visit the ' +\n",
              "            '<a target=\"_blank\" href=https://colab.research.google.com/notebooks/data_table.ipynb>data table notebook</a>'\n",
              "            + ' to learn more about interactive tables.';\n",
              "          element.innerHTML = '';\n",
              "          dataTable['output_type'] = 'display_data';\n",
              "          await google.colab.output.renderOutput(dataTable, element);\n",
              "          const docLink = document.createElement('div');\n",
              "          docLink.innerHTML = docLinkHtml;\n",
              "          element.appendChild(docLink);\n",
              "        }\n",
              "      </script>\n",
              "    </div>\n",
              "  </div>\n",
              "  "
            ]
          },
          "metadata": {},
          "execution_count": 51
        }
      ]
    },
    {
      "cell_type": "code",
      "source": [
        "X = Data_scaled_df.drop(columns='Close')\n",
        "y = Data_scaled_df[['Close']]"
      ],
      "metadata": {
        "id": "iXEwi9GwhF6o"
      },
      "id": "iXEwi9GwhF6o",
      "execution_count": 52,
      "outputs": []
    },
    {
      "cell_type": "code",
      "source": [
        "# split the data into train and test sets\n",
        "X_train , X_test , y_train , y_test = train_test_split(X,y,test_size=0.2)"
      ],
      "metadata": {
        "id": "Dw-KiAwuhT2h"
      },
      "id": "Dw-KiAwuhT2h",
      "execution_count": 53,
      "outputs": []
    },
    {
      "cell_type": "markdown",
      "source": [
        "## Train Machine Learning Algorithms"
      ],
      "metadata": {
        "id": "jR1us7-3maUZ"
      },
      "id": "jR1us7-3maUZ"
    },
    {
      "cell_type": "code",
      "source": [
        "# instantiate different machine learning algorithms\n",
        "\n",
        "# decision tree\n",
        "decision_tree_reg = DecisionTreeRegressor()\n",
        "# linear regression\n",
        "linear_regression = LinearRegression()\n",
        "# svm\n",
        "svm_reg = SVR()"
      ],
      "metadata": {
        "id": "gAOjlWJki_DS"
      },
      "id": "gAOjlWJki_DS",
      "execution_count": 54,
      "outputs": []
    },
    {
      "cell_type": "code",
      "source": [
        "# train decision tree\n",
        "decision_tree_reg.fit(X_train,y_train)\n",
        "print('training complete...')"
      ],
      "metadata": {
        "colab": {
          "base_uri": "https://localhost:8080/"
        },
        "id": "_XpgOXNwkz0F",
        "outputId": "86027110-6227-481d-9c46-9228eb92dd2d"
      },
      "id": "_XpgOXNwkz0F",
      "execution_count": 55,
      "outputs": [
        {
          "output_type": "stream",
          "name": "stdout",
          "text": [
            "training complete...\n"
          ]
        }
      ]
    },
    {
      "cell_type": "code",
      "source": [
        "# train decision tree\n",
        "linear_regression.fit(X_train,y_train)\n",
        "print('training complete...')"
      ],
      "metadata": {
        "colab": {
          "base_uri": "https://localhost:8080/"
        },
        "id": "i7Any0cQlGI4",
        "outputId": "e99f0c05-d5df-4964-f6dc-a5bf632d49b7"
      },
      "id": "i7Any0cQlGI4",
      "execution_count": 56,
      "outputs": [
        {
          "output_type": "stream",
          "name": "stdout",
          "text": [
            "training complete...\n"
          ]
        }
      ]
    },
    {
      "cell_type": "code",
      "source": [
        "# train decision tree\n",
        "svm_reg.fit(X_train,np.ravel(y_train))\n",
        "print('training complete...')"
      ],
      "metadata": {
        "colab": {
          "base_uri": "https://localhost:8080/"
        },
        "id": "QC-ikoFGlKtu",
        "outputId": "6b69f06e-50a8-4f52-abcf-8046ca39fd28"
      },
      "id": "QC-ikoFGlKtu",
      "execution_count": 57,
      "outputs": [
        {
          "output_type": "stream",
          "name": "stdout",
          "text": [
            "training complete...\n"
          ]
        }
      ]
    },
    {
      "cell_type": "markdown",
      "source": [
        "## Compute Accuracy for each Model's Predictions"
      ],
      "metadata": {
        "id": "4zwuLlvsmf4J"
      },
      "id": "4zwuLlvsmf4J"
    },
    {
      "cell_type": "code",
      "source": [
        "def model_accuracy(model,X_test,y_test,label):\n",
        "  predictions = model.predict(X_test)\n",
        "  predictions_df = pd.DataFrame(predictions,index=y_test.index,columns=['predictions close'])\n",
        "  mse = mean_squared_error(y_test,predictions_df)\n",
        "  mae = mean_absolute_error(y_test,predictions_df)\n",
        "\n",
        "  print('The',label,'has mean_squared_error:',mse)\n",
        "  print('The',label,'has mean_absolute_error',mae)\n",
        "\n",
        "  return mse,mae"
      ],
      "metadata": {
        "id": "gcWwl8R9lVYf"
      },
      "id": "gcWwl8R9lVYf",
      "execution_count": 58,
      "outputs": []
    },
    {
      "cell_type": "code",
      "source": [
        "# decision tree regressor\n",
        "mse_decision_tree , mae_decision_tree = model_accuracy(decision_tree_reg,X_test,y_test,'DecisionTreeRegressor')"
      ],
      "metadata": {
        "colab": {
          "base_uri": "https://localhost:8080/"
        },
        "id": "f92hv6J2oLwF",
        "outputId": "5bdf2db9-ba64-4d08-ff1e-0277fe10e058"
      },
      "id": "f92hv6J2oLwF",
      "execution_count": 59,
      "outputs": [
        {
          "output_type": "stream",
          "name": "stdout",
          "text": [
            "The DecisionTreeRegressor has mean_squared_error: 0.604833829439424\n",
            "The DecisionTreeRegressor has mean_absolute_error 0.46338989848886514\n"
          ]
        }
      ]
    },
    {
      "cell_type": "code",
      "source": [
        "# linear regression\n",
        "mse_linear_regression , mae_linear_regression = model_accuracy(linear_regression,X_test,y_test,'LinearRegression')"
      ],
      "metadata": {
        "colab": {
          "base_uri": "https://localhost:8080/"
        },
        "id": "kTZcfwM2ohrg",
        "outputId": "988312ec-68b0-4fb3-bb0b-d599e07b3ca3"
      },
      "id": "kTZcfwM2ohrg",
      "execution_count": 60,
      "outputs": [
        {
          "output_type": "stream",
          "name": "stdout",
          "text": [
            "The LinearRegression has mean_squared_error: 0.6623666246084257\n",
            "The LinearRegression has mean_absolute_error 0.6033565975159629\n"
          ]
        }
      ]
    },
    {
      "cell_type": "code",
      "source": [
        "# svm regressor\n",
        "mse_svm_regressor , mae_svm_regressor = model_accuracy(svm_reg,X_test,y_test,'SVR')"
      ],
      "metadata": {
        "colab": {
          "base_uri": "https://localhost:8080/"
        },
        "id": "27Ybq1aLoqT8",
        "outputId": "93fa87df-398c-46a3-d37d-91e6577be63e"
      },
      "id": "27Ybq1aLoqT8",
      "execution_count": 61,
      "outputs": [
        {
          "output_type": "stream",
          "name": "stdout",
          "text": [
            "The SVR has mean_squared_error: 0.4081423003530311\n",
            "The SVR has mean_absolute_error 0.42799975229676457\n"
          ]
        }
      ]
    },
    {
      "cell_type": "markdown",
      "source": [
        "## Visualize Performance of each Machine Learning Model"
      ],
      "metadata": {
        "id": "9errXWuOq61J"
      },
      "id": "9errXWuOq61J"
    },
    {
      "cell_type": "code",
      "source": [
        "def plot_accuracy(regressors_metric,labels,metric):\n",
        "  plt.bar(x=labels,height=regressors_metric)\n",
        "  if metric == 'mse':\n",
        "    plt.title('The Mean_Squared_error of each Regressor')\n",
        "    plt.ylabel('Mean_Squared_error Score')\n",
        "  elif metric == 'mae':\n",
        "    plt.title('The Mean_Absolute_error of each Regressor')\n",
        "    plt.ylabel('Mean_Absolute_error Score')"
      ],
      "metadata": {
        "id": "7Z8bF5_eoxsn"
      },
      "id": "7Z8bF5_eoxsn",
      "execution_count": 62,
      "outputs": []
    },
    {
      "cell_type": "code",
      "source": [
        "# visualize MSE\n",
        "labels = ['DecisionTreeRegressor','LinearRegression','SVR']\n",
        "regressors_mse = [mse_decision_tree,mse_linear_regression,mse_svm_regressor]\n",
        "plot_accuracy(regressors_mse,labels,'mse')"
      ],
      "metadata": {
        "colab": {
          "base_uri": "https://localhost:8080/",
          "height": 281
        },
        "id": "WNf263P3pLy_",
        "outputId": "36a70342-2c83-42ed-914c-d639cef8281f"
      },
      "id": "WNf263P3pLy_",
      "execution_count": 63,
      "outputs": [
        {
          "output_type": "display_data",
          "data": {
            "text/plain": [
              "<Figure size 432x288 with 1 Axes>"
            ],
            "image/png": "[encoded data removed]"
          },
          "metadata": {
            "needs_background": "light"
          }
        }
      ]
    },
    {
      "cell_type": "code",
      "source": [
        "# visualize MAE\n",
        "labels = ['DecisionTreeRegressor','LinearRegression','SVR']\n",
        "regressors_mse = [mae_decision_tree,mae_linear_regression,mae_svm_regressor]\n",
        "plot_accuracy(regressors_mse,labels,'mae')"
      ],
      "metadata": {
        "colab": {
          "base_uri": "https://localhost:8080/",
          "height": 281
        },
        "id": "sMSmbgV4rCGH",
        "outputId": "01799a9a-de03-47fc-84db-fa6d1ae6111e"
      },
      "id": "sMSmbgV4rCGH",
      "execution_count": 64,
      "outputs": [
        {
          "output_type": "display_data",
          "data": {
            "text/plain": [
              "<Figure size 432x288 with 1 Axes>"
            ],
            "image/png": "[encoded data removed]"
          },
          "metadata": {
            "needs_background": "light"
          }
        }
      ]
    },
    {
      "cell_type": "markdown",
      "source": [
        "## From Visualization we see that SVR has the **Lowest** **Mean_Squared_error** and **Mean_Absolute_error** so it the **The Best Model**"
      ],
      "metadata": {
        "id": "vblgIpuUsFeZ"
      },
      "id": "vblgIpuUsFeZ"
    },
    {
      "cell_type": "markdown",
      "source": [
        "## Perofrmance of the Model is, Mean_Squared_error = 0.4081423003530311 and Mean_Absolute_error = 0.42799975229676457"
      ],
      "metadata": {
        "id": "TFPcG4hmsme2"
      },
      "id": "TFPcG4hmsme2"
    },
    {
      "cell_type": "code",
      "source": [],
      "metadata": {
        "id": "dZ_Zt87Es2ij"
      },
      "id": "dZ_Zt87Es2ij",
      "execution_count": null,
      "outputs": []
    }
  ],
  "metadata": {
    "kernelspec": {
      "display_name": "Python 3",
      "language": "python",
      "name": "python3"
    },
    "language_info": {
      "codemirror_mode": {
        "name": "ipython",
        "version": 3
      },
      "file_extension": ".py",
      "mimetype": "text/x-python",
      "name": "python",
      "nbconvert_exporter": "python",
      "pygments_lexer": "ipython3",
      "version": "3.8.8"
    },
    "colab": {
      "provenance": [],
      "collapsed_sections": []
    }
  },
  "nbformat": 4,
  "nbformat_minor": 5
}